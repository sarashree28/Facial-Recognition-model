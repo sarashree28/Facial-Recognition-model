{
  "cells": [
    {
      "cell_type": "markdown",
      "metadata": {
        "id": "view-in-github",
        "colab_type": "text"
      },
      "source": [
        "<a href=\"https://colab.research.google.com/github/sarashree28/Facial-Recognition-model/blob/main/Facial_Recognition_with_Siamese_Neural_Networks.ipynb\" target=\"_parent\"><img src=\"https://colab.research.google.com/assets/colab-badge.svg\" alt=\"Open In Colab\"/></a>"
      ]
    },
    {
      "cell_type": "markdown",
      "metadata": {
        "id": "B99Op9BcTfQA"
      },
      "source": []
    },
    {
      "cell_type": "code",
      "execution_count": null,
      "metadata": {
        "id": "tAsGT3NkT0xc"
      },
      "outputs": [],
      "source": [
        "# !pip install tensorflow opencv-python matplotlib"
      ]
    },
    {
      "cell_type": "code",
      "execution_count": null,
      "metadata": {
        "id": "nNxWbJ4kTy_O"
      },
      "outputs": [],
      "source": [
        "import cv2\n",
        "import os\n",
        "import random\n",
        "import numpy as np\n",
        "from matplotlib import pyplot as plt\n",
        "import shutil"
      ]
    },
    {
      "cell_type": "code",
      "execution_count": null,
      "metadata": {
        "id": "qS3Y44fHUH7B"
      },
      "outputs": [],
      "source": [
        "from tensorflow.keras.models import Model\n",
        "from tensorflow.keras.layers import Layer, Conv2D, Dense, MaxPooling2D, Input, Flatten\n",
        "import tensorflow as tf\n"
      ]
    },
    {
      "cell_type": "code",
      "execution_count": null,
      "metadata": {
        "id": "Gul4YZbXXvV_"
      },
      "outputs": [],
      "source": [
        "POS_PATH = os.path.join('/content/gdrive/MyDrive/Colab Notebooks/data','positive')\n",
        "NEG_PATH = os.path.join('/content/gdrive/MyDrive/Colab Notebooks/data','negative1')\n",
        "ANC_PATH = os.path.join('/content/gdrive/MyDrive/Colab Notebooks/data','anchor')"
      ]
    },
    {
      "cell_type": "code",
      "execution_count": null,
      "metadata": {
        "id": "59v2s-PqY6h5"
      },
      "outputs": [],
      "source": [
        "# os.makedirs(POS_PATH)\n",
        "# os.makedirs(NEG_PATH)\n",
        "# os.makedirs(ANC_PATH)\n",
        "# os.makedirs(NEG_PATH)"
      ]
    },
    {
      "cell_type": "code",
      "execution_count": null,
      "metadata": {
        "colab": {
          "base_uri": "https://localhost:8080/"
        },
        "id": "TuOYlGzVZVsQ",
        "outputId": "6cb7c679-5a4d-4100-a125-6fa3bb44f27e"
      },
      "outputs": [
        {
          "name": "stdout",
          "output_type": "stream",
          "text": [
            "Mounted at /content/gdrive\n"
          ]
        }
      ],
      "source": [
        "from google.colab import drive\n",
        "drive.mount('/content/gdrive')"
      ]
    },
    {
      "cell_type": "code",
      "execution_count": null,
      "metadata": {
        "id": "Mx8uFnDi7a5k"
      },
      "outputs": [],
      "source": [
        "# !unzip gdrive/MyDrive/human.zip"
      ]
    },
    {
      "cell_type": "code",
      "execution_count": null,
      "metadata": {
        "id": "65GGl1CLoIgv"
      },
      "outputs": [],
      "source": [
        "# try:\n",
        "#     for directory in os.listdir('human faces'):\n",
        "#         dir_path = os.path.join('human faces', directory)\n",
        "\n",
        "#         # Check if dir_path is a directory\n",
        "#         if os.path.isdir(dir_path):\n",
        "#             for file in os.listdir(dir_path):\n",
        "#                 EX_PATH = os.path.join(dir_path, file)\n",
        "#                 NEW_PATH = os.path.join(NEG_PATH, file)\n",
        "\n",
        "#                 # Copy the file to the new path\n",
        "#                 shutil.copy(EX_PATH, NEW_PATH)\n",
        "#                 print(f'Copied {EX_PATH} to {NEW_PATH}')\n",
        "# except Exception as e:\n",
        "#     print(f'Error: {e}')"
      ]
    },
    {
      "cell_type": "code",
      "execution_count": null,
      "metadata": {
        "id": "3iyI80PssZZ-"
      },
      "outputs": [],
      "source": [
        "# cap = cv2.VideoCapture(5)\n",
        "# while cap.isOpened():\n",
        "#   ret,frame = cap.read()\n",
        "\n",
        "#   cv2.imshow('Image Collection', frame)\n",
        "\n",
        "#   if cv2.waitKey(1) & 0XFF == ord('q'):\n",
        "#     break\n",
        "# cap.release()\n",
        "# cv2.destroyAllWindows()"
      ]
    },
    {
      "cell_type": "code",
      "execution_count": null,
      "metadata": {
        "colab": {
          "base_uri": "https://localhost:8080/",
          "height": 1000,
          "referenced_widgets": [
            "5c7915313a0e4d0d88cd74acf9df2795",
            "8cef5aeed95f4c6e9a38f9b8f0982d60",
            "87351ecfea3b4ccb9e67146766a452b1",
            "c8a85f295b474cd7a3db60f2241b1da1",
            "2c8e25f890914f4e9c79e7eb33c8ec51",
            "a5a52fcffaa04449a6a40b79c28c46ba"
          ]
        },
        "id": "QNF9yek6N3Bf",
        "outputId": "a3f0e245-cfbe-49f8-c6ad-9126aa20d2da"
      },
      "outputs": [
        {
          "name": "stdout",
          "output_type": "stream",
          "text": [
            "Requirement already satisfied: ipywidgets in /usr/local/lib/python3.10/dist-packages (7.7.1)\n",
            "Requirement already satisfied: ipykernel>=4.5.1 in /usr/local/lib/python3.10/dist-packages (from ipywidgets) (5.5.6)\n",
            "Requirement already satisfied: ipython-genutils~=0.2.0 in /usr/local/lib/python3.10/dist-packages (from ipywidgets) (0.2.0)\n",
            "Requirement already satisfied: traitlets>=4.3.1 in /usr/local/lib/python3.10/dist-packages (from ipywidgets) (5.7.1)\n",
            "Requirement already satisfied: widgetsnbextension~=3.6.0 in /usr/local/lib/python3.10/dist-packages (from ipywidgets) (3.6.7)\n",
            "Requirement already satisfied: ipython>=4.0.0 in /usr/local/lib/python3.10/dist-packages (from ipywidgets) (7.34.0)\n",
            "Requirement already satisfied: jupyterlab-widgets>=1.0.0 in /usr/local/lib/python3.10/dist-packages (from ipywidgets) (3.0.11)\n",
            "Requirement already satisfied: jupyter-client in /usr/local/lib/python3.10/dist-packages (from ipykernel>=4.5.1->ipywidgets) (6.1.12)\n",
            "Requirement already satisfied: tornado>=4.2 in /usr/local/lib/python3.10/dist-packages (from ipykernel>=4.5.1->ipywidgets) (6.3.3)\n",
            "Requirement already satisfied: setuptools>=18.5 in /usr/local/lib/python3.10/dist-packages (from ipython>=4.0.0->ipywidgets) (71.0.4)\n",
            "Requirement already satisfied: jedi>=0.16 in /usr/local/lib/python3.10/dist-packages (from ipython>=4.0.0->ipywidgets) (0.19.1)\n",
            "Requirement already satisfied: decorator in /usr/local/lib/python3.10/dist-packages (from ipython>=4.0.0->ipywidgets) (4.4.2)\n",
            "Requirement already satisfied: pickleshare in /usr/local/lib/python3.10/dist-packages (from ipython>=4.0.0->ipywidgets) (0.7.5)\n",
            "Requirement already satisfied: prompt-toolkit!=3.0.0,!=3.0.1,<3.1.0,>=2.0.0 in /usr/local/lib/python3.10/dist-packages (from ipython>=4.0.0->ipywidgets) (3.0.47)\n",
            "Requirement already satisfied: pygments in /usr/local/lib/python3.10/dist-packages (from ipython>=4.0.0->ipywidgets) (2.16.1)\n",
            "Requirement already satisfied: backcall in /usr/local/lib/python3.10/dist-packages (from ipython>=4.0.0->ipywidgets) (0.2.0)\n",
            "Requirement already satisfied: matplotlib-inline in /usr/local/lib/python3.10/dist-packages (from ipython>=4.0.0->ipywidgets) (0.1.7)\n",
            "Requirement already satisfied: pexpect>4.3 in /usr/local/lib/python3.10/dist-packages (from ipython>=4.0.0->ipywidgets) (4.9.0)\n",
            "Requirement already satisfied: notebook>=4.4.1 in /usr/local/lib/python3.10/dist-packages (from widgetsnbextension~=3.6.0->ipywidgets) (6.5.5)\n",
            "Requirement already satisfied: parso<0.9.0,>=0.8.3 in /usr/local/lib/python3.10/dist-packages (from jedi>=0.16->ipython>=4.0.0->ipywidgets) (0.8.4)\n",
            "Requirement already satisfied: jinja2 in /usr/local/lib/python3.10/dist-packages (from notebook>=4.4.1->widgetsnbextension~=3.6.0->ipywidgets) (3.1.4)\n",
            "Requirement already satisfied: pyzmq<25,>=17 in /usr/local/lib/python3.10/dist-packages (from notebook>=4.4.1->widgetsnbextension~=3.6.0->ipywidgets) (24.0.1)\n",
            "Requirement already satisfied: argon2-cffi in /usr/local/lib/python3.10/dist-packages (from notebook>=4.4.1->widgetsnbextension~=3.6.0->ipywidgets) (23.1.0)\n",
            "Requirement already satisfied: jupyter-core>=4.6.1 in /usr/local/lib/python3.10/dist-packages (from notebook>=4.4.1->widgetsnbextension~=3.6.0->ipywidgets) (5.7.2)\n",
            "Requirement already satisfied: nbformat in /usr/local/lib/python3.10/dist-packages (from notebook>=4.4.1->widgetsnbextension~=3.6.0->ipywidgets) (5.10.4)\n",
            "Requirement already satisfied: nbconvert>=5 in /usr/local/lib/python3.10/dist-packages (from notebook>=4.4.1->widgetsnbextension~=3.6.0->ipywidgets) (6.5.4)\n",
            "Requirement already satisfied: nest-asyncio>=1.5 in /usr/local/lib/python3.10/dist-packages (from notebook>=4.4.1->widgetsnbextension~=3.6.0->ipywidgets) (1.6.0)\n",
            "Requirement already satisfied: Send2Trash>=1.8.0 in /usr/local/lib/python3.10/dist-packages (from notebook>=4.4.1->widgetsnbextension~=3.6.0->ipywidgets) (1.8.3)\n",
            "Requirement already satisfied: terminado>=0.8.3 in /usr/local/lib/python3.10/dist-packages (from notebook>=4.4.1->widgetsnbextension~=3.6.0->ipywidgets) (0.18.1)\n",
            "Requirement already satisfied: prometheus-client in /usr/local/lib/python3.10/dist-packages (from notebook>=4.4.1->widgetsnbextension~=3.6.0->ipywidgets) (0.20.0)\n",
            "Requirement already satisfied: nbclassic>=0.4.7 in /usr/local/lib/python3.10/dist-packages (from notebook>=4.4.1->widgetsnbextension~=3.6.0->ipywidgets) (1.1.0)\n",
            "Requirement already satisfied: python-dateutil>=2.1 in /usr/local/lib/python3.10/dist-packages (from jupyter-client->ipykernel>=4.5.1->ipywidgets) (2.8.2)\n",
            "Requirement already satisfied: ptyprocess>=0.5 in /usr/local/lib/python3.10/dist-packages (from pexpect>4.3->ipython>=4.0.0->ipywidgets) (0.7.0)\n",
            "Requirement already satisfied: wcwidth in /usr/local/lib/python3.10/dist-packages (from prompt-toolkit!=3.0.0,!=3.0.1,<3.1.0,>=2.0.0->ipython>=4.0.0->ipywidgets) (0.2.13)\n",
            "Requirement already satisfied: platformdirs>=2.5 in /usr/local/lib/python3.10/dist-packages (from jupyter-core>=4.6.1->notebook>=4.4.1->widgetsnbextension~=3.6.0->ipywidgets) (4.2.2)\n",
            "Requirement already satisfied: notebook-shim>=0.2.3 in /usr/local/lib/python3.10/dist-packages (from nbclassic>=0.4.7->notebook>=4.4.1->widgetsnbextension~=3.6.0->ipywidgets) (0.2.4)\n",
            "Requirement already satisfied: lxml in /usr/local/lib/python3.10/dist-packages (from nbconvert>=5->notebook>=4.4.1->widgetsnbextension~=3.6.0->ipywidgets) (4.9.4)\n",
            "Requirement already satisfied: beautifulsoup4 in /usr/local/lib/python3.10/dist-packages (from nbconvert>=5->notebook>=4.4.1->widgetsnbextension~=3.6.0->ipywidgets) (4.12.3)\n",
            "Requirement already satisfied: bleach in /usr/local/lib/python3.10/dist-packages (from nbconvert>=5->notebook>=4.4.1->widgetsnbextension~=3.6.0->ipywidgets) (6.1.0)\n",
            "Requirement already satisfied: defusedxml in /usr/local/lib/python3.10/dist-packages (from nbconvert>=5->notebook>=4.4.1->widgetsnbextension~=3.6.0->ipywidgets) (0.7.1)\n",
            "Requirement already satisfied: entrypoints>=0.2.2 in /usr/local/lib/python3.10/dist-packages (from nbconvert>=5->notebook>=4.4.1->widgetsnbextension~=3.6.0->ipywidgets) (0.4)\n",
            "Requirement already satisfied: jupyterlab-pygments in /usr/local/lib/python3.10/dist-packages (from nbconvert>=5->notebook>=4.4.1->widgetsnbextension~=3.6.0->ipywidgets) (0.3.0)\n",
            "Requirement already satisfied: MarkupSafe>=2.0 in /usr/local/lib/python3.10/dist-packages (from nbconvert>=5->notebook>=4.4.1->widgetsnbextension~=3.6.0->ipywidgets) (2.1.5)\n",
            "Requirement already satisfied: mistune<2,>=0.8.1 in /usr/local/lib/python3.10/dist-packages (from nbconvert>=5->notebook>=4.4.1->widgetsnbextension~=3.6.0->ipywidgets) (0.8.4)\n",
            "Requirement already satisfied: nbclient>=0.5.0 in /usr/local/lib/python3.10/dist-packages (from nbconvert>=5->notebook>=4.4.1->widgetsnbextension~=3.6.0->ipywidgets) (0.10.0)\n",
            "Requirement already satisfied: packaging in /usr/local/lib/python3.10/dist-packages (from nbconvert>=5->notebook>=4.4.1->widgetsnbextension~=3.6.0->ipywidgets) (24.1)\n",
            "Requirement already satisfied: pandocfilters>=1.4.1 in /usr/local/lib/python3.10/dist-packages (from nbconvert>=5->notebook>=4.4.1->widgetsnbextension~=3.6.0->ipywidgets) (1.5.1)\n",
            "Requirement already satisfied: tinycss2 in /usr/local/lib/python3.10/dist-packages (from nbconvert>=5->notebook>=4.4.1->widgetsnbextension~=3.6.0->ipywidgets) (1.3.0)\n",
            "Requirement already satisfied: fastjsonschema>=2.15 in /usr/local/lib/python3.10/dist-packages (from nbformat->notebook>=4.4.1->widgetsnbextension~=3.6.0->ipywidgets) (2.20.0)\n",
            "Requirement already satisfied: jsonschema>=2.6 in /usr/local/lib/python3.10/dist-packages (from nbformat->notebook>=4.4.1->widgetsnbextension~=3.6.0->ipywidgets) (4.19.2)\n",
            "Requirement already satisfied: six>=1.5 in /usr/local/lib/python3.10/dist-packages (from python-dateutil>=2.1->jupyter-client->ipykernel>=4.5.1->ipywidgets) (1.16.0)\n",
            "Requirement already satisfied: argon2-cffi-bindings in /usr/local/lib/python3.10/dist-packages (from argon2-cffi->notebook>=4.4.1->widgetsnbextension~=3.6.0->ipywidgets) (21.2.0)\n",
            "Requirement already satisfied: attrs>=22.2.0 in /usr/local/lib/python3.10/dist-packages (from jsonschema>=2.6->nbformat->notebook>=4.4.1->widgetsnbextension~=3.6.0->ipywidgets) (23.2.0)\n",
            "Requirement already satisfied: jsonschema-specifications>=2023.03.6 in /usr/local/lib/python3.10/dist-packages (from jsonschema>=2.6->nbformat->notebook>=4.4.1->widgetsnbextension~=3.6.0->ipywidgets) (2023.12.1)\n",
            "Requirement already satisfied: referencing>=0.28.4 in /usr/local/lib/python3.10/dist-packages (from jsonschema>=2.6->nbformat->notebook>=4.4.1->widgetsnbextension~=3.6.0->ipywidgets) (0.35.1)\n",
            "Requirement already satisfied: rpds-py>=0.7.1 in /usr/local/lib/python3.10/dist-packages (from jsonschema>=2.6->nbformat->notebook>=4.4.1->widgetsnbextension~=3.6.0->ipywidgets) (0.19.0)\n",
            "Requirement already satisfied: jupyter-server<3,>=1.8 in /usr/local/lib/python3.10/dist-packages (from notebook-shim>=0.2.3->nbclassic>=0.4.7->notebook>=4.4.1->widgetsnbextension~=3.6.0->ipywidgets) (1.24.0)\n",
            "Requirement already satisfied: cffi>=1.0.1 in /usr/local/lib/python3.10/dist-packages (from argon2-cffi-bindings->argon2-cffi->notebook>=4.4.1->widgetsnbextension~=3.6.0->ipywidgets) (1.16.0)\n",
            "Requirement already satisfied: soupsieve>1.2 in /usr/local/lib/python3.10/dist-packages (from beautifulsoup4->nbconvert>=5->notebook>=4.4.1->widgetsnbextension~=3.6.0->ipywidgets) (2.5)\n",
            "Requirement already satisfied: webencodings in /usr/local/lib/python3.10/dist-packages (from bleach->nbconvert>=5->notebook>=4.4.1->widgetsnbextension~=3.6.0->ipywidgets) (0.5.1)\n",
            "Requirement already satisfied: pycparser in /usr/local/lib/python3.10/dist-packages (from cffi>=1.0.1->argon2-cffi-bindings->argon2-cffi->notebook>=4.4.1->widgetsnbextension~=3.6.0->ipywidgets) (2.22)\n",
            "Requirement already satisfied: anyio<4,>=3.1.0 in /usr/local/lib/python3.10/dist-packages (from jupyter-server<3,>=1.8->notebook-shim>=0.2.3->nbclassic>=0.4.7->notebook>=4.4.1->widgetsnbextension~=3.6.0->ipywidgets) (3.7.1)\n",
            "Requirement already satisfied: websocket-client in /usr/local/lib/python3.10/dist-packages (from jupyter-server<3,>=1.8->notebook-shim>=0.2.3->nbclassic>=0.4.7->notebook>=4.4.1->widgetsnbextension~=3.6.0->ipywidgets) (1.8.0)\n",
            "Requirement already satisfied: idna>=2.8 in /usr/local/lib/python3.10/dist-packages (from anyio<4,>=3.1.0->jupyter-server<3,>=1.8->notebook-shim>=0.2.3->nbclassic>=0.4.7->notebook>=4.4.1->widgetsnbextension~=3.6.0->ipywidgets) (3.7)\n",
            "Requirement already satisfied: sniffio>=1.1 in /usr/local/lib/python3.10/dist-packages (from anyio<4,>=3.1.0->jupyter-server<3,>=1.8->notebook-shim>=0.2.3->nbclassic>=0.4.7->notebook>=4.4.1->widgetsnbextension~=3.6.0->ipywidgets) (1.3.1)\n",
            "Requirement already satisfied: exceptiongroup in /usr/local/lib/python3.10/dist-packages (from anyio<4,>=3.1.0->jupyter-server<3,>=1.8->notebook-shim>=0.2.3->nbclassic>=0.4.7->notebook>=4.4.1->widgetsnbextension~=3.6.0->ipywidgets) (1.2.2)\n",
            "Reading package lists... Done\n",
            "Building dependency tree... Done\n",
            "Reading state information... Done\n",
            "ffmpeg is already the newest version (7:4.4.2-0ubuntu0.22.04.1).\n",
            "0 upgraded, 0 newly installed, 0 to remove and 45 not upgraded.\n"
          ]
        },
        {
          "data": {
            "application/vnd.jupyter.widget-view+json": {
              "model_id": "5c7915313a0e4d0d88cd74acf9df2795",
              "version_major": 2,
              "version_minor": 0
            },
            "text/plain": [
              "Button(description='Capture ANC Image', style=ButtonStyle())"
            ]
          },
          "metadata": {},
          "output_type": "display_data"
        },
        {
          "data": {
            "application/vnd.jupyter.widget-view+json": {
              "model_id": "c8a85f295b474cd7a3db60f2241b1da1",
              "version_major": 2,
              "version_minor": 0
            },
            "text/plain": [
              "Button(description='Capture POS Image', style=ButtonStyle())"
            ]
          },
          "metadata": {},
          "output_type": "display_data"
        }
      ],
      "source": [
        "!pip install ipywidgets\n",
        "!apt-get install -y ffmpeg\n",
        "\n",
        "from IPython.display import display, Javascript\n",
        "from google.colab.output import eval_js\n",
        "from base64 import b64decode\n",
        "import cv2\n",
        "from google.colab.patches import cv2_imshow\n",
        "import numpy as np\n",
        "import PIL\n",
        "from io import BytesIO\n",
        "import uuid\n",
        "import os\n",
        "import ipywidgets as widgets\n",
        "\n",
        "\n",
        "def capture_image():\n",
        "    js = Javascript('''\n",
        "    async function captureImage() {\n",
        "        const video = document.createElement('video');\n",
        "        const stream = await navigator.mediaDevices.getUserMedia({video: true});\n",
        "        video.srcObject = stream;\n",
        "        video.play();\n",
        "        document.body.appendChild(video);\n",
        "        await new Promise((resolve) => setTimeout(resolve, 1000));\n",
        "        const canvas = document.createElement('canvas');\n",
        "        canvas.width = video.videoWidth;\n",
        "        canvas.height = video.videoHeight;\n",
        "        canvas.getContext('2d').drawImage(video, 0, 0);\n",
        "        const imgDataUrl = canvas.toDataURL('image/jpeg');\n",
        "        stream.getTracks().forEach(track => track.stop());\n",
        "        document.body.removeChild(video);\n",
        "        return imgDataUrl;\n",
        "    }\n",
        "    captureImage();\n",
        "    ''')\n",
        "    display(js)\n",
        "    data = eval_js('captureImage()')\n",
        "    return data\n",
        "\n",
        "def save_image(data_url, path):\n",
        "    img_data = b64decode(data_url.split(',')[1])\n",
        "    img = PIL.Image.open(BytesIO(img_data))\n",
        "    img_np = np.array(img)\n",
        "    img_cv = cv2.cvtColor(img_np, cv2.COLOR_RGB2BGR)\n",
        "    img_cv = img_cv[150:150+250, 250:250+250, :]\n",
        "    imgname = os.path.join(path, '{}.jpeg'.format(uuid.uuid1()))\n",
        "    cv2.imwrite(imgname, img_cv)\n",
        "    print(f\"Image saved to {imgname}\")\n",
        "    cv2_imshow(img_cv)\n",
        "\n",
        "def on_anc_button_click(b):\n",
        "    img_data_url = capture_image()\n",
        "    save_image(img_data_url, ANC_PATH)\n",
        "\n",
        "def on_pos_button_click(b):\n",
        "    img_data_url = capture_image()\n",
        "    save_image(img_data_url, VER_PATH)\n",
        "\n",
        "anc_button = widgets.Button(description=\"Capture ANC Image\")\n",
        "anc_button.on_click(on_anc_button_click)\n",
        "\n",
        "pos_button = widgets.Button(description=\"Capture POS Image\")\n",
        "pos_button.on_click(on_pos_button_click)\n",
        "\n",
        "display(anc_button)\n",
        "display(pos_button)\n",
        "\n"
      ]
    },
    {
      "cell_type": "code",
      "execution_count": null,
      "metadata": {
        "id": "usXrAbTzdLCK"
      },
      "outputs": [],
      "source": [
        "# img_data_url"
      ]
    },
    {
      "cell_type": "code",
      "execution_count": null,
      "metadata": {
        "id": "iXxiODlGeUdt"
      },
      "outputs": [],
      "source": [
        "anchor = tf.data.Dataset.list_files(ANC_PATH+'/*.jpeg').take(200)\n",
        "positive = tf.data.Dataset.list_files(POS_PATH+'/*.jpeg').take(200)\n",
        "negative1 = tf.data.Dataset.list_files(NEG_PATH+'/*.jpg').take(200)"
      ]
    },
    {
      "cell_type": "code",
      "execution_count": null,
      "metadata": {
        "id": "CViYUszsO9cO"
      },
      "outputs": [],
      "source": [
        "# import tensorflow as tf\n",
        "\n",
        "# def decode_filename(byte_string):\n",
        "#     return tf.strings.strip(byte_string)"
      ]
    },
    {
      "cell_type": "code",
      "execution_count": null,
      "metadata": {
        "id": "jDR62wQ0PnJe"
      },
      "outputs": [],
      "source": [
        "# negative = negative.map(lambda x: decode_filename(x))"
      ]
    },
    {
      "cell_type": "code",
      "execution_count": null,
      "metadata": {
        "id": "i2WfJl9wO_A6"
      },
      "outputs": [],
      "source": [
        "# import cv2\n",
        "# import numpy as np\n",
        "\n",
        "# def load_and_convert_image(image_path):\n",
        "#     image_path = image_path.numpy().decode('utf-8')\n",
        "#     image = cv2.imread(image_path, cv2.IMREAD_GRAYSCALE)\n",
        "#     if image is None:\n",
        "#         raise ValueError(f\"Image at {image_path} could not be read\")\n",
        "#     image_rgb = cv2.cvtColor(image, cv2.COLOR_GRAY2RGB)\n",
        "#     return image_rgb\n"
      ]
    },
    {
      "cell_type": "code",
      "execution_count": null,
      "metadata": {
        "id": "2mHO6kRkPwNP"
      },
      "outputs": [],
      "source": [
        "# # Map the load_and_convert_image function to the dataset\n",
        "# negative_rgb = negative.map(lambda x: tf.py_function(load_and_convert_image, [x], tf.uint8))\n"
      ]
    },
    {
      "cell_type": "code",
      "execution_count": null,
      "metadata": {
        "id": "8iUG1iNMO_Dn"
      },
      "outputs": [],
      "source": [
        "# negative_rgb"
      ]
    },
    {
      "cell_type": "code",
      "execution_count": null,
      "metadata": {
        "id": "-sHIJBuUO_Fi"
      },
      "outputs": [],
      "source": [
        "# import matplotlib.pyplot as plt\n",
        "\n",
        "# # Create an iterator\n",
        "# iterator = iter(negative_rgb)\n",
        "\n",
        "# # Fetch and display the first image\n",
        "# for _ in range(1):\n",
        "#     image = next(iterator)\n",
        "#     plt.imshow(image.numpy())\n",
        "#     plt.axis('off')\n",
        "#     plt.show()\n"
      ]
    },
    {
      "cell_type": "code",
      "execution_count": null,
      "metadata": {
        "id": "BcGl7USmO_Hu"
      },
      "outputs": [],
      "source": []
    },
    {
      "cell_type": "code",
      "execution_count": null,
      "metadata": {
        "id": "kP2CHm0wO_Jc"
      },
      "outputs": [],
      "source": []
    },
    {
      "cell_type": "code",
      "execution_count": null,
      "metadata": {
        "colab": {
          "base_uri": "https://localhost:8080/"
        },
        "id": "kLt2RCH5Gwp1",
        "outputId": "577fb36d-8374-4d4e-e4fb-0522ffb6f53c"
      },
      "outputs": [
        {
          "data": {
            "text/plain": [
              "<_TakeDataset element_spec=TensorSpec(shape=(), dtype=tf.string, name=None)>"
            ]
          },
          "execution_count": 6,
          "metadata": {},
          "output_type": "execute_result"
        }
      ],
      "source": [
        "negative1"
      ]
    },
    {
      "cell_type": "code",
      "execution_count": null,
      "metadata": {
        "id": "8HC5UWBWLDPp"
      },
      "outputs": [],
      "source": []
    },
    {
      "cell_type": "code",
      "execution_count": null,
      "metadata": {
        "id": "WhdvLK8sK_IC"
      },
      "outputs": [],
      "source": [
        "# negative = negative.map()"
      ]
    },
    {
      "cell_type": "code",
      "execution_count": null,
      "metadata": {
        "id": "2OvvLAloklcy"
      },
      "outputs": [],
      "source": [
        "# negative = np.repeat(negative, 3, axis=-1)"
      ]
    },
    {
      "cell_type": "code",
      "execution_count": null,
      "metadata": {
        "id": "he-d0TzSnk7V"
      },
      "outputs": [],
      "source": [
        "# negative2 = negative.as_numpy_iterator()"
      ]
    },
    {
      "cell_type": "code",
      "execution_count": null,
      "metadata": {
        "id": "T1YFXEbaG4XU"
      },
      "outputs": [],
      "source": [
        "# ex1= negative2.next()\n",
        "# ex1"
      ]
    },
    {
      "cell_type": "code",
      "execution_count": null,
      "metadata": {
        "id": "eI4Q6YjgLK2N"
      },
      "outputs": [],
      "source": []
    },
    {
      "cell_type": "code",
      "execution_count": null,
      "metadata": {
        "id": "2tfDYgtWHfkl"
      },
      "outputs": [],
      "source": []
    },
    {
      "cell_type": "code",
      "execution_count": null,
      "metadata": {
        "id": "TdLrAYOfA9sH"
      },
      "outputs": [],
      "source": [
        "# import tensorflow as tf\n",
        "# import numpy as np\n",
        "\n",
        "# # Path to your grayscale images\n",
        "# # GRAYSCALE_PATH = \"/path/to/your/grayscale/images\"\n",
        "\n",
        "# # # Step 1: List grayscale image files\n",
        "# # grayscale_files = tf.data.Dataset.list_files(GRAYSCALE_PATH + '/*.jpg').take(200)\n",
        "\n",
        "# # Step 2: Function to load and preprocess grayscale images\n",
        "# def load_grayscale_image(file_path):\n",
        "#     image = tf.io.read_file(file_path)\n",
        "#     image = tf.image.decode_jpeg(image, channels=1)  # Load as grayscale\n",
        "#     image = tf.image.resize(image, [224, 224])\n",
        "#     image = image / 255.0  # Normalize to [0, 1]\n",
        "#     return image\n",
        "\n",
        "# # Step 3: Map function to dataset\n",
        "# grayscale_dataset = negative.map(load_grayscale_image)\n",
        "\n",
        "# # Step 4: Convert grayscale images to RGB\n",
        "# def grayscale_to_rgb(image):\n",
        "#     return tf.image.grayscale_to_rgb(image)\n",
        "\n",
        "# negative_dataset = grayscale_dataset.map(grayscale_to_rgb)\n",
        "\n",
        "# # Step 5: Batch and prefetch for performance\n",
        "# batch_size = 32\n",
        "# negative_dataset = negative_dataset.batch(batch_size).prefetch(tf.data.experimental.AUTOTUNE)\n",
        "\n",
        "# # Example: Iterate over the dataset\n",
        "# for batch in negative_dataset.take(1):\n",
        "#     print(batch.shape)  # Should output: (batch_size, 224, 224, 3)\n"
      ]
    },
    {
      "cell_type": "code",
      "execution_count": null,
      "metadata": {
        "id": "9e-Nmwr4DtMg"
      },
      "outputs": [],
      "source": [
        "# import tensorflow as tf\n",
        "# import numpy as np\n",
        "# from tensorflow.keras.preprocessing import image\n",
        "# from tensorflow.keras.preprocessing.image import img_to_array\n",
        "\n",
        "# # Assume NEG_PATH contains image files\n",
        "# # NEG_PATH = \"/path/to/your/images\"\n",
        "\n",
        "# # # Step 1: List files\n",
        "# # negative = tf.data.Dataset.list_files(NEG_PATH + '/*.jpg').take(200)\n",
        "\n",
        "# # Step 2: Function to load and preprocess images\n",
        "# def load_and_preprocess_image(file_path):\n",
        "#     image = tf.io.read_file(file_path)\n",
        "#     image = tf.image.decode_jpeg(image, channels=3)\n",
        "#     image = tf.image.resize(image, [224, 224])\n",
        "#     image = image / 255.0  # Normalize to [0, 1]\n",
        "#     return image\n",
        "\n",
        "# # Step 3: Map function to dataset\n",
        "# positive_images = positive.map(load_and_preprocess_image)\n",
        "\n",
        "# # Step 4: Convert to numpy array (optional)\n",
        "# positive_array = np.array([img.numpy() for img in positive_images])\n",
        "\n",
        "# # Step 5: Convert numpy array to TensorFlow Dataset\n",
        "# positive_dataset = tf.data.Dataset.from_tensor_slices(positive_array)\n",
        "\n",
        "# # Step 6: Batch and prefetch for performance\n",
        "# batch_size = 32\n",
        "# positivetive_dataset = positive_dataset.batch(batch_size).prefetch(tf.data.experimental.AUTOTUNE)\n",
        "\n",
        "# # Example: Iterate over the dataset\n",
        "# for batch in positive_dataset.take(1):\n",
        "#     print(batch.shape)\n",
        "#      # Print the shape of each batch\n"
      ]
    },
    {
      "cell_type": "code",
      "execution_count": null,
      "metadata": {
        "id": "GavGBj18E5N7"
      },
      "outputs": [],
      "source": [
        "dir_test = anchor.as_numpy_iterator()"
      ]
    },
    {
      "cell_type": "code",
      "execution_count": null,
      "metadata": {
        "colab": {
          "base_uri": "https://localhost:8080/"
        },
        "id": "-hfkbygpFuOj",
        "outputId": "68a5a5aa-d01b-49ce-8c7b-30c5e646e67d"
      },
      "outputs": [
        {
          "data": {
            "text/plain": [
              "b'/content/gdrive/MyDrive/Colab Notebooks/data/anchor/510941ec-4505-11ef-a962-0242ac1c000c.jpeg'"
            ]
          },
          "execution_count": 8,
          "metadata": {},
          "output_type": "execute_result"
        }
      ],
      "source": [
        "dir_test.next()"
      ]
    },
    {
      "cell_type": "code",
      "execution_count": null,
      "metadata": {
        "id": "7scs1VmvGQSf"
      },
      "outputs": [],
      "source": [
        "def preprocess(file_path):\n",
        "  byte_img = tf.io.read_file(file_path)\n",
        "  img1 = tf.io.decode_jpeg(byte_img)\n",
        "  img1 = tf.image.resize(img1,(100,100))\n",
        "  img1 = img1/255.0\n",
        "  return img1\n"
      ]
    },
    {
      "cell_type": "code",
      "execution_count": null,
      "metadata": {
        "id": "xkGqGmATHsRp"
      },
      "outputs": [],
      "source": [
        "# ex1 = preprocess(ex1)"
      ]
    },
    {
      "cell_type": "code",
      "execution_count": null,
      "metadata": {
        "id": "BGl2V-z2MLq3"
      },
      "outputs": [],
      "source": [
        "# def decode_filename(byte_string):\n",
        "#     return tf.py_function(lambda x: x.decode('utf-8'), [byte_string], tf.string)\n",
        "\n"
      ]
    },
    {
      "cell_type": "code",
      "execution_count": null,
      "metadata": {
        "id": "TUQbDufQMUOu"
      },
      "outputs": [],
      "source": [
        "# negative = negative.map(decode_filename)"
      ]
    },
    {
      "cell_type": "code",
      "execution_count": null,
      "metadata": {
        "id": "UtWqsNJ_MuZ_"
      },
      "outputs": [],
      "source": []
    },
    {
      "cell_type": "code",
      "execution_count": null,
      "metadata": {
        "id": "My_lVCTwH8Hy"
      },
      "outputs": [],
      "source": [
        "# def load_and_convert_image(image_path):\n",
        "#     # Load the grayscale image\n",
        "#     gray_image = cv2.imread(image_path, cv2.IMREAD_GRAYSCALE)\n",
        "\n",
        "#     # Check if image is loaded successfully\n",
        "#     if gray_image is None:\n",
        "#         raise ValueError(\"Image not found or unable to load\")\n",
        "\n",
        "#     # Convert grayscale image to RGB\n",
        "#     rgb_image = cv2.cvtColor(gray_image, cv2.COLOR_GRAY2RGB)\n",
        "\n",
        "#     return rgb_image"
      ]
    },
    {
      "cell_type": "code",
      "execution_count": null,
      "metadata": {
        "id": "IsczQuvrNZaM"
      },
      "outputs": [],
      "source": [
        "# negga1 = negative.as_numpy_iterator()\n",
        "# negga1.next()"
      ]
    },
    {
      "cell_type": "code",
      "execution_count": null,
      "metadata": {
        "id": "B-wXoOiwLvcU"
      },
      "outputs": [],
      "source": [
        "# negative_rgb = negative.map(load_and_convert_image)"
      ]
    },
    {
      "cell_type": "code",
      "execution_count": null,
      "metadata": {
        "id": "wYDiUNioIoBx"
      },
      "outputs": [],
      "source": []
    },
    {
      "cell_type": "code",
      "execution_count": null,
      "metadata": {
        "id": "U306oM0pKOI2"
      },
      "outputs": [],
      "source": [
        "# rgb_image"
      ]
    },
    {
      "cell_type": "code",
      "execution_count": null,
      "metadata": {
        "id": "qF-uYr3dIWFt"
      },
      "outputs": [],
      "source": [
        "# rgb_image = load_and_convert_image(ex1)\n"
      ]
    },
    {
      "cell_type": "code",
      "execution_count": null,
      "metadata": {
        "id": "twc--buVIWTr"
      },
      "outputs": [],
      "source": []
    },
    {
      "cell_type": "code",
      "execution_count": null,
      "metadata": {
        "id": "r0bWCKKNHyF_"
      },
      "outputs": [],
      "source": [
        "# plt.imshow(ex1)"
      ]
    },
    {
      "cell_type": "code",
      "execution_count": null,
      "metadata": {
        "id": "8nro-_BgHcP3"
      },
      "outputs": [],
      "source": [
        "img1 = preprocess(b'/content/gdrive/MyDrive/Colab Notebooks/data/anchor/c8a507d4-4507-11ef-a962-0242ac1c000c.jpeg')"
      ]
    },
    {
      "cell_type": "code",
      "execution_count": null,
      "metadata": {
        "colab": {
          "base_uri": "https://localhost:8080/",
          "height": 450
        },
        "id": "pM7wsPGGHjw4",
        "outputId": "cdc8b0b7-bb80-4a90-d2cc-af6fd8e5ba30"
      },
      "outputs": [
        {
          "data": {
            "text/plain": [
              "<matplotlib.image.AxesImage at 0x7e3e8ceda0e0>"
            ]
          },
          "execution_count": 11,
          "metadata": {},
          "output_type": "execute_result"
        },
        {
          "data": {
            "image/png": "[encoded data removed]",
            "text/plain": [
              "<Figure size 640x480 with 1 Axes>"
            ]
          },
          "metadata": {},
          "output_type": "display_data"
        }
      ],
      "source": [
        "plt.imshow(img1)"
      ]
    },
    {
      "cell_type": "code",
      "execution_count": null,
      "metadata": {
        "colab": {
          "base_uri": "https://localhost:8080/"
        },
        "id": "oXwKor7NHyBZ",
        "outputId": "b5f7c6dd-4af6-48a3-c2c6-ef677f5457be"
      },
      "outputs": [
        {
          "data": {
            "text/plain": [
              "0.7056373"
            ]
          },
          "execution_count": 12,
          "metadata": {},
          "output_type": "execute_result"
        }
      ],
      "source": [
        "img1.numpy().max()"
      ]
    },
    {
      "cell_type": "code",
      "execution_count": null,
      "metadata": {
        "id": "dbyODFmZJS8M"
      },
      "outputs": [],
      "source": [
        "# (anchor, positive) => 1,1,1,1,1\n",
        "# (anchor, negative) => 0,0,0,0,0\n",
        "# tf.ones_like([1,1,1,4,5676,2345.8])"
      ]
    },
    {
      "cell_type": "code",
      "execution_count": null,
      "metadata": {
        "id": "x-xVIS-sJkaa"
      },
      "outputs": [],
      "source": [
        "positives = tf.data.Dataset.zip((anchor, positive, tf.data.Dataset.from_tensor_slices(tf.ones(len(anchor)))))\n",
        "negatives = tf.data.Dataset.zip((anchor, negative1 , tf.data.Dataset.from_tensor_slices(tf.zeros(len(anchor)))))\n",
        "data = positives.concatenate(negatives)"
      ]
    },
    {
      "cell_type": "code",
      "execution_count": null,
      "metadata": {
        "id": "Lg65V6y6DIIl"
      },
      "outputs": [],
      "source": [
        "# for batch in negative_dataset.take(1):\n",
        "#     print(batch.shape)"
      ]
    },
    {
      "cell_type": "code",
      "execution_count": null,
      "metadata": {
        "colab": {
          "base_uri": "https://localhost:8080/"
        },
        "id": "fEB6DaiGKley",
        "outputId": "5fc08b0c-9da5-485f-a3d9-c51e5b3e3ac6"
      },
      "outputs": [
        {
          "data": {
            "text/plain": [
              "<_ConcatenateDataset element_spec=(TensorSpec(shape=(), dtype=tf.string, name=None), TensorSpec(shape=(), dtype=tf.string, name=None), TensorSpec(shape=(), dtype=tf.float32, name=None))>"
            ]
          },
          "execution_count": 16,
          "metadata": {},
          "output_type": "execute_result"
        }
      ],
      "source": [
        "data"
      ]
    },
    {
      "cell_type": "code",
      "execution_count": null,
      "metadata": {
        "colab": {
          "base_uri": "https://localhost:8080/"
        },
        "id": "WIY9LYuaKqyH",
        "outputId": "0e5687c0-bf9c-46d5-f863-742bfdac3d43"
      },
      "outputs": [
        {
          "data": {
            "text/plain": [
              "<tf.Tensor: shape=(200,), dtype=float32, numpy=\n",
              "array([1., 1., 1., 1., 1., 1., 1., 1., 1., 1., 1., 1., 1., 1., 1., 1., 1.,\n",
              "       1., 1., 1., 1., 1., 1., 1., 1., 1., 1., 1., 1., 1., 1., 1., 1., 1.,\n",
              "       1., 1., 1., 1., 1., 1., 1., 1., 1., 1., 1., 1., 1., 1., 1., 1., 1.,\n",
              "       1., 1., 1., 1., 1., 1., 1., 1., 1., 1., 1., 1., 1., 1., 1., 1., 1.,\n",
              "       1., 1., 1., 1., 1., 1., 1., 1., 1., 1., 1., 1., 1., 1., 1., 1., 1.,\n",
              "       1., 1., 1., 1., 1., 1., 1., 1., 1., 1., 1., 1., 1., 1., 1., 1., 1.,\n",
              "       1., 1., 1., 1., 1., 1., 1., 1., 1., 1., 1., 1., 1., 1., 1., 1., 1.,\n",
              "       1., 1., 1., 1., 1., 1., 1., 1., 1., 1., 1., 1., 1., 1., 1., 1., 1.,\n",
              "       1., 1., 1., 1., 1., 1., 1., 1., 1., 1., 1., 1., 1., 1., 1., 1., 1.,\n",
              "       1., 1., 1., 1., 1., 1., 1., 1., 1., 1., 1., 1., 1., 1., 1., 1., 1.,\n",
              "       1., 1., 1., 1., 1., 1., 1., 1., 1., 1., 1., 1., 1., 1., 1., 1., 1.,\n",
              "       1., 1., 1., 1., 1., 1., 1., 1., 1., 1., 1., 1., 1.], dtype=float32)>"
            ]
          },
          "execution_count": 17,
          "metadata": {},
          "output_type": "execute_result"
        }
      ],
      "source": [
        "tf.ones(len(anchor))"
      ]
    },
    {
      "cell_type": "code",
      "execution_count": null,
      "metadata": {
        "colab": {
          "base_uri": "https://localhost:8080/"
        },
        "id": "XzrgLT4jK5av",
        "outputId": "ac617ee2-52a4-4653-ae02-fa70e9ba4d10"
      },
      "outputs": [
        {
          "data": {
            "text/plain": [
              "<tf.Tensor: shape=(200,), dtype=float32, numpy=\n",
              "array([0., 0., 0., 0., 0., 0., 0., 0., 0., 0., 0., 0., 0., 0., 0., 0., 0.,\n",
              "       0., 0., 0., 0., 0., 0., 0., 0., 0., 0., 0., 0., 0., 0., 0., 0., 0.,\n",
              "       0., 0., 0., 0., 0., 0., 0., 0., 0., 0., 0., 0., 0., 0., 0., 0., 0.,\n",
              "       0., 0., 0., 0., 0., 0., 0., 0., 0., 0., 0., 0., 0., 0., 0., 0., 0.,\n",
              "       0., 0., 0., 0., 0., 0., 0., 0., 0., 0., 0., 0., 0., 0., 0., 0., 0.,\n",
              "       0., 0., 0., 0., 0., 0., 0., 0., 0., 0., 0., 0., 0., 0., 0., 0., 0.,\n",
              "       0., 0., 0., 0., 0., 0., 0., 0., 0., 0., 0., 0., 0., 0., 0., 0., 0.,\n",
              "       0., 0., 0., 0., 0., 0., 0., 0., 0., 0., 0., 0., 0., 0., 0., 0., 0.,\n",
              "       0., 0., 0., 0., 0., 0., 0., 0., 0., 0., 0., 0., 0., 0., 0., 0., 0.,\n",
              "       0., 0., 0., 0., 0., 0., 0., 0., 0., 0., 0., 0., 0., 0., 0., 0., 0.,\n",
              "       0., 0., 0., 0., 0., 0., 0., 0., 0., 0., 0., 0., 0., 0., 0., 0., 0.,\n",
              "       0., 0., 0., 0., 0., 0., 0., 0., 0., 0., 0., 0., 0.], dtype=float32)>"
            ]
          },
          "execution_count": 18,
          "metadata": {},
          "output_type": "execute_result"
        }
      ],
      "source": [
        "tf.zeros(len(anchor))"
      ]
    },
    {
      "cell_type": "code",
      "execution_count": null,
      "metadata": {
        "id": "7fEbxi-SLObG"
      },
      "outputs": [],
      "source": [
        "samples = data.as_numpy_iterator()"
      ]
    },
    {
      "cell_type": "code",
      "execution_count": null,
      "metadata": {
        "id": "zVPwTEGSLytc"
      },
      "outputs": [],
      "source": [
        "example = samples.next()"
      ]
    },
    {
      "cell_type": "code",
      "execution_count": null,
      "metadata": {
        "id": "u-vbS8oEL1dZ"
      },
      "outputs": [],
      "source": [
        "def preprocess_twin(input_img, validation_img,label):\n",
        "  return(preprocess(input_img), preprocess(validation_img),label)"
      ]
    },
    {
      "cell_type": "code",
      "execution_count": null,
      "metadata": {
        "id": "K6LxsKMLMKoN"
      },
      "outputs": [],
      "source": [
        "res = preprocess_twin(*example)"
      ]
    },
    {
      "cell_type": "code",
      "execution_count": null,
      "metadata": {
        "colab": {
          "base_uri": "https://localhost:8080/",
          "height": 450
        },
        "id": "q-IOzsr1MgjF",
        "outputId": "043bb840-b686-430c-bc1e-c005f91d6646"
      },
      "outputs": [
        {
          "data": {
            "text/plain": [
              "<matplotlib.image.AxesImage at 0x7e3e83f36aa0>"
            ]
          },
          "execution_count": 23,
          "metadata": {},
          "output_type": "execute_result"
        },
        {
          "data": {
            "image/png": "[encoded data removed]",
            "text/plain": [
              "<Figure size 640x480 with 1 Axes>"
            ]
          },
          "metadata": {},
          "output_type": "display_data"
        }
      ],
      "source": [
        "plt.imshow(res[0])"
      ]
    },
    {
      "cell_type": "code",
      "execution_count": null,
      "metadata": {
        "colab": {
          "base_uri": "https://localhost:8080/",
          "height": 450
        },
        "id": "YCXTtbEoNE8T",
        "outputId": "da965461-7556-4d4d-8e1c-b880995c40c3"
      },
      "outputs": [
        {
          "data": {
            "text/plain": [
              "<matplotlib.image.AxesImage at 0x7e3e80b769e0>"
            ]
          },
          "execution_count": 24,
          "metadata": {},
          "output_type": "execute_result"
        },
        {
          "data": {
            "image/png": "[encoded data removed]",
            "text/plain": [
              "<Figure size 640x480 with 1 Axes>"
            ]
          },
          "metadata": {},
          "output_type": "display_data"
        }
      ],
      "source": [
        "plt.imshow(res[1])"
      ]
    },
    {
      "cell_type": "code",
      "execution_count": null,
      "metadata": {
        "id": "bVI73dYkNHoZ"
      },
      "outputs": [],
      "source": [
        "data = data.map(preprocess_twin)\n",
        "data = data.cache()\n",
        "data = data.shuffle(buffer_size=1024)"
      ]
    },
    {
      "cell_type": "code",
      "execution_count": null,
      "metadata": {
        "colab": {
          "base_uri": "https://localhost:8080/"
        },
        "id": "PB2RmEZ4OhKs",
        "outputId": "fb3c80ad-df4f-4028-cf2a-09d06e114038"
      },
      "outputs": [
        {
          "data": {
            "text/plain": [
              "<_ShuffleDataset element_spec=(TensorSpec(shape=(100, 100, None), dtype=tf.float32, name=None), TensorSpec(shape=(100, 100, None), dtype=tf.float32, name=None), TensorSpec(shape=(), dtype=tf.float32, name=None))>"
            ]
          },
          "execution_count": 26,
          "metadata": {},
          "output_type": "execute_result"
        }
      ],
      "source": [
        "data"
      ]
    },
    {
      "cell_type": "code",
      "execution_count": null,
      "metadata": {
        "id": "BhiK5YXDOGHZ"
      },
      "outputs": [],
      "source": [
        "samples = data.as_numpy_iterator().next()"
      ]
    },
    {
      "cell_type": "code",
      "execution_count": null,
      "metadata": {
        "id": "42kMcmF3OQSx"
      },
      "outputs": [],
      "source": [
        "# len(samples)"
      ]
    },
    {
      "cell_type": "code",
      "execution_count": null,
      "metadata": {
        "id": "Kwvl5Ez3bszW"
      },
      "outputs": [],
      "source": [
        "# len(samples[0])\n"
      ]
    },
    {
      "cell_type": "code",
      "execution_count": null,
      "metadata": {
        "id": "yzOdZK0aP0Hj"
      },
      "outputs": [],
      "source": [
        "# plt.imshow(samples[1])"
      ]
    },
    {
      "cell_type": "code",
      "execution_count": null,
      "metadata": {
        "colab": {
          "base_uri": "https://localhost:8080/"
        },
        "id": "7d1imowvP8yz",
        "outputId": "0f1d9410-b1be-4d1a-fb37-fab9e0f005c1"
      },
      "outputs": [
        {
          "data": {
            "text/plain": [
              "<_ShuffleDataset element_spec=(TensorSpec(shape=(100, 100, None), dtype=tf.float32, name=None), TensorSpec(shape=(100, 100, None), dtype=tf.float32, name=None), TensorSpec(shape=(), dtype=tf.float32, name=None))>"
            ]
          },
          "execution_count": 31,
          "metadata": {},
          "output_type": "execute_result"
        }
      ],
      "source": [
        "data"
      ]
    },
    {
      "cell_type": "code",
      "execution_count": null,
      "metadata": {
        "id": "INnjBeWuQH5y"
      },
      "outputs": [],
      "source": [
        "# training partition\n",
        "train_data = data.take(round(len(data)*.7))\n",
        "train_data = train_data.batch(20)\n",
        "train_data = train_data.prefetch(10)"
      ]
    },
    {
      "cell_type": "code",
      "execution_count": null,
      "metadata": {
        "colab": {
          "base_uri": "https://localhost:8080/"
        },
        "id": "1VYrxnntl_U6",
        "outputId": "192969d9-b929-439c-f36a-65bc0d298a01"
      },
      "outputs": [
        {
          "data": {
            "text/plain": [
              "<_PrefetchDataset element_spec=(TensorSpec(shape=(None, 100, 100, None), dtype=tf.float32, name=None), TensorSpec(shape=(None, 100, 100, None), dtype=tf.float32, name=None), TensorSpec(shape=(None,), dtype=tf.float32, name=None))>"
            ]
          },
          "execution_count": 33,
          "metadata": {},
          "output_type": "execute_result"
        }
      ],
      "source": [
        "train_data"
      ]
    },
    {
      "cell_type": "code",
      "execution_count": null,
      "metadata": {
        "colab": {
          "base_uri": "https://localhost:8080/"
        },
        "id": "wGVKqITeRCL4",
        "outputId": "6c889f44-f320-421f-d005-cd57f29a8cbc"
      },
      "outputs": [
        {
          "data": {
            "text/plain": [
              "280"
            ]
          },
          "execution_count": 34,
          "metadata": {},
          "output_type": "execute_result"
        }
      ],
      "source": [
        "round(len(data)*.7)"
      ]
    },
    {
      "cell_type": "code",
      "execution_count": null,
      "metadata": {
        "id": "M_VUontfVylH"
      },
      "outputs": [],
      "source": [
        "test_data = data.skip(round(len(data)*.7))\n",
        "test_data = test_data.take(round(len(data)*.3))\n",
        "test_data = test_data.batch(20)\n",
        "test_data = test_data.prefetch(10)"
      ]
    },
    {
      "cell_type": "code",
      "execution_count": null,
      "metadata": {
        "colab": {
          "base_uri": "https://localhost:8080/"
        },
        "id": "YwdjKN6mey0T",
        "outputId": "39032874-5c8b-4c61-a37b-d8b2c3433c77"
      },
      "outputs": [
        {
          "data": {
            "text/plain": [
              "<_PrefetchDataset element_spec=(TensorSpec(shape=(None, 100, 100, None), dtype=tf.float32, name=None), TensorSpec(shape=(None, 100, 100, None), dtype=tf.float32, name=None), TensorSpec(shape=(None,), dtype=tf.float32, name=None))>"
            ]
          },
          "execution_count": 36,
          "metadata": {},
          "output_type": "execute_result"
        }
      ],
      "source": [
        "test_data"
      ]
    },
    {
      "cell_type": "code",
      "execution_count": null,
      "metadata": {
        "colab": {
          "base_uri": "https://localhost:8080/"
        },
        "id": "lM6lwMgtWQ5U",
        "outputId": "58c8cb97-e5cf-43b0-f8c0-ab6c9d1b1774"
      },
      "outputs": [
        {
          "data": {
            "text/plain": [
              "120"
            ]
          },
          "execution_count": 37,
          "metadata": {},
          "output_type": "execute_result"
        }
      ],
      "source": [
        "round(len(data)*.3)"
      ]
    },
    {
      "cell_type": "code",
      "execution_count": null,
      "metadata": {
        "id": "OCvqS_FZWUMi"
      },
      "outputs": [],
      "source": [
        "def make_embedding():\n",
        "  inp = Input(shape=(100,100,3), name='input_image')\n",
        "\n",
        "  c1 = Conv2D(64, (10,10),activation = 'relu')(inp)\n",
        "  m1 = MaxPooling2D(64,(2,2), padding='same')(c1)\n",
        "\n",
        "  c2 = Conv2D(128, (7,7), activation='relu')(m1)\n",
        "  m2 = MaxPooling2D(64, (2,2), padding='same')(c2)\n",
        "\n",
        "  c3 = Conv2D(128, (4,4), activation='relu')(m2)\n",
        "  m3 = MaxPooling2D(64, (2,2), padding='same')(c3)\n",
        "\n",
        "  c4 = Conv2D(256, (4,4), activation='relu')(m3)\n",
        "  f1 = Flatten()(c4)\n",
        "  d1 = Dense(4096, activation='sigmoid')(f1)\n",
        "\n",
        "  return Model(inputs=[inp] ,outputs=[d1] ,name='embedding')\n",
        "\n"
      ]
    },
    {
      "cell_type": "code",
      "execution_count": null,
      "metadata": {
        "id": "Vq3KkY-jy8bA"
      },
      "outputs": [],
      "source": [
        "embedding = make_embedding()"
      ]
    },
    {
      "cell_type": "code",
      "execution_count": null,
      "metadata": {
        "colab": {
          "base_uri": "https://localhost:8080/"
        },
        "id": "Yv7l2qzXzp_v",
        "outputId": "a7dcf2ad-86fa-4ba3-f94a-424902afb1a7"
      },
      "outputs": [
        {
          "name": "stdout",
          "output_type": "stream",
          "text": [
            "Model: \"embedding\"\n",
            "_________________________________________________________________\n",
            " Layer (type)                Output Shape              Param #   \n",
            "=================================================================\n",
            " input_image (InputLayer)    [(None, 100, 100, 3)]     0         \n",
            "                                                                 \n",
            " conv2d (Conv2D)             (None, 91, 91, 64)        19264     \n",
            "                                                                 \n",
            " max_pooling2d (MaxPooling2  (None, 46, 46, 64)        0         \n",
            " D)                                                              \n",
            "                                                                 \n",
            " conv2d_1 (Conv2D)           (None, 40, 40, 128)       401536    \n",
            "                                                                 \n",
            " max_pooling2d_1 (MaxPoolin  (None, 20, 20, 128)       0         \n",
            " g2D)                                                            \n",
            "                                                                 \n",
            " conv2d_2 (Conv2D)           (None, 17, 17, 128)       262272    \n",
            "                                                                 \n",
            " max_pooling2d_2 (MaxPoolin  (None, 9, 9, 128)         0         \n",
            " g2D)                                                            \n",
            "                                                                 \n",
            " conv2d_3 (Conv2D)           (None, 6, 6, 256)         524544    \n",
            "                                                                 \n",
            " flatten (Flatten)           (None, 9216)              0         \n",
            "                                                                 \n",
            " dense (Dense)               (None, 4096)              37752832  \n",
            "                                                                 \n",
            "=================================================================\n",
            "Total params: 38960448 (148.62 MB)\n",
            "Trainable params: 38960448 (148.62 MB)\n",
            "Non-trainable params: 0 (0.00 Byte)\n",
            "_________________________________________________________________\n"
          ]
        }
      ],
      "source": [
        "embedding.summary()"
      ]
    },
    {
      "cell_type": "code",
      "execution_count": null,
      "metadata": {
        "id": "OKe7RL7-zsMV"
      },
      "outputs": [],
      "source": [
        "class L1Dist(Layer):\n",
        "  def __init__(self,**kwargs):\n",
        "    super().__init__()\n",
        "\n",
        "  def call(self, input_embedding, validation_embedding):\n",
        "    return tf.math.abs(input_embedding - validation_embedding)"
      ]
    },
    {
      "cell_type": "code",
      "execution_count": null,
      "metadata": {
        "id": "Vws77ltVGb8z"
      },
      "outputs": [],
      "source": [
        "l1 = L1Dist()"
      ]
    },
    {
      "cell_type": "code",
      "execution_count": null,
      "metadata": {
        "id": "qF5A76ZrGnjC"
      },
      "outputs": [],
      "source": [
        "def make_siamese_model():\n",
        "\n",
        "  input_image = Input(name='input_img', shape=(100,100,3))\n",
        "\n",
        "  validation_image = Input(name='validation_img', shape=(100,100,3))\n",
        "\n",
        "  siamese_layer = L1Dist()\n",
        "  siamese_layer._name = 'distance'\n",
        "  distances = siamese_layer(embedding(input_image), embedding(validation_image))\n",
        "\n",
        "  classifier = Dense(1, activation='sigmoid')(distances)\n",
        "\n",
        "  return Model(inputs=[input_image, validation_image], outputs=classifier, name='SiameseNetwork')\n"
      ]
    },
    {
      "cell_type": "code",
      "execution_count": null,
      "metadata": {
        "id": "8-xbbtanHVBD"
      },
      "outputs": [],
      "source": [
        "siamese_model = make_siamese_model()"
      ]
    },
    {
      "cell_type": "code",
      "execution_count": null,
      "metadata": {
        "colab": {
          "base_uri": "https://localhost:8080/"
        },
        "id": "hPf2wn2yKN-t",
        "outputId": "a4d8fbc1-964b-4abb-d32d-2fa283f481e9"
      },
      "outputs": [
        {
          "name": "stdout",
          "output_type": "stream",
          "text": [
            "Model: \"SiameseNetwork\"\n",
            "__________________________________________________________________________________________________\n",
            " Layer (type)                Output Shape                 Param #   Connected to                  \n",
            "==================================================================================================\n",
            " input_img (InputLayer)      [(None, 100, 100, 3)]        0         []                            \n",
            "                                                                                                  \n",
            " validation_img (InputLayer  [(None, 100, 100, 3)]        0         []                            \n",
            " )                                                                                                \n",
            "                                                                                                  \n",
            " embedding (Functional)      (None, 4096)                 3896044   ['input_img[0][0]',           \n",
            "                                                          8          'validation_img[0][0]']      \n",
            "                                                                                                  \n",
            " distance (L1Dist)           (None, 4096)                 0         ['embedding[0][0]',           \n",
            "                                                                     'embedding[1][0]']           \n",
            "                                                                                                  \n",
            " dense_1 (Dense)             (None, 1)                    4097      ['distance[0][0]']            \n",
            "                                                                                                  \n",
            "==================================================================================================\n",
            "Total params: 38964545 (148.64 MB)\n",
            "Trainable params: 38964545 (148.64 MB)\n",
            "Non-trainable params: 0 (0.00 Byte)\n",
            "__________________________________________________________________________________________________\n"
          ]
        }
      ],
      "source": [
        "siamese_model.summary()"
      ]
    },
    {
      "cell_type": "code",
      "execution_count": null,
      "metadata": {
        "id": "46PYP06ZKQ49"
      },
      "outputs": [],
      "source": [
        "binary_cross_loss = tf.losses.BinaryCrossentropy()"
      ]
    },
    {
      "cell_type": "code",
      "execution_count": null,
      "metadata": {
        "id": "9G5zFLVCLuO6"
      },
      "outputs": [],
      "source": [
        "opt = tf.keras.optimizers.Adam(1e-4)"
      ]
    },
    {
      "cell_type": "code",
      "execution_count": null,
      "metadata": {
        "id": "NZkpU6S6MCwU"
      },
      "outputs": [],
      "source": [
        "checkpoint_dir = '/content/gdrive/MyDrive/Colab Notebooks/training_checkpoints'\n",
        "check = os.path.join(checkpoint_dir,'ckpt')\n",
        "checkpoint = tf.train.Checkpoint(opt=opt, siamese_model=siamese_model)\n"
      ]
    },
    {
      "cell_type": "code",
      "execution_count": null,
      "metadata": {
        "id": "rl5flJx3MsMN"
      },
      "outputs": [],
      "source": [
        "# os.makedirs(check)"
      ]
    },
    {
      "cell_type": "code",
      "execution_count": null,
      "metadata": {
        "id": "SiXq4pEYOZeK"
      },
      "outputs": [],
      "source": [
        "@tf.function\n",
        "def train_step(batch):\n",
        "  with tf.GradientTape() as tape:\n",
        "    X = batch[:2]\n",
        "\n",
        "    y = batch[2]\n",
        "\n",
        "    yhat = siamese_model(X, training=True)\n",
        "\n",
        "    loss = binary_cross_loss(y, yhat)\n",
        "  print(loss)\n",
        "  grad = tape.gradient(loss, siamese_model.trainable_variables)\n",
        "\n",
        "  opt.apply_gradients(zip(grad, siamese_model.trainable_variables))\n",
        "  return loss"
      ]
    },
    {
      "cell_type": "code",
      "execution_count": null,
      "metadata": {
        "id": "OOQS9ArDyBUU"
      },
      "outputs": [],
      "source": [
        "\n"
      ]
    },
    {
      "cell_type": "code",
      "execution_count": null,
      "metadata": {
        "id": "NHwecuh1gJce"
      },
      "outputs": [],
      "source": [
        "def train(data, EPOCHS):\n",
        "  for epoch in range(1, EPOCHS+1):\n",
        "    print('\\n Epoch {}/{}'.format(epoch, EPOCHS))\n",
        "    progbar = tf.keras.utils.Progbar(len(train_data))\n",
        "\n",
        "    for idx, batch in enumerate(train_data):\n",
        "      train_step(batch)\n",
        "      progbar.update(idx)\n",
        "\n",
        "    if epoch % 10 == 0:\n",
        "      checkpoint.save(file_prefix=check)"
      ]
    },
    {
      "cell_type": "code",
      "execution_count": null,
      "metadata": {
        "id": "0g5GqxckhMve"
      },
      "outputs": [],
      "source": [
        "EPOCHS = 10"
      ]
    },
    {
      "cell_type": "code",
      "execution_count": null,
      "metadata": {
        "colab": {
          "background_save": true,
          "base_uri": "https://localhost:8080/"
        },
        "id": "qWBEnzdhhQWF",
        "outputId": "011f0531-08ad-4cc1-dff1-9b3cfa58a04f"
      },
      "outputs": [
        {
          "name": "stdout",
          "output_type": "stream",
          "text": [
            "\n",
            " Epoch 1/50\n",
            "Tensor(\"binary_crossentropy/weighted_loss/value:0\", shape=(), dtype=float32)\n",
            "Tensor(\"binary_crossentropy/weighted_loss/value:0\", shape=(), dtype=float32)\n",
            "13/14 [==========================>...] - ETA: 48s \n",
            " Epoch 2/50\n",
            "13/14 [==========================>...] - ETA: 48s \n",
            " Epoch 3/50\n",
            "13/14 [==========================>...] - ETA: 48s \n",
            " Epoch 4/50\n",
            "13/14 [==========================>...] - ETA: 48s \n",
            " Epoch 5/50\n",
            "13/14 [==========================>...] - ETA: 47s \n",
            " Epoch 6/50\n",
            "13/14 [==========================>...] - ETA: 47s \n",
            " Epoch 7/50\n",
            "13/14 [==========================>...] - ETA: 47s \n",
            " Epoch 8/50\n",
            "13/14 [==========================>...] - ETA: 47s \n",
            " Epoch 9/50\n",
            "13/14 [==========================>...] - ETA: 47s \n",
            " Epoch 10/50\n",
            "13/14 [==========================>...] - ETA: 47s \n",
            " Epoch 11/50\n",
            "13/14 [==========================>...] - ETA: 47s \n",
            " Epoch 12/50\n",
            "13/14 [==========================>...] - ETA: 50s \n",
            " Epoch 13/50\n",
            "13/14 [==========================>...] - ETA: 51s \n",
            " Epoch 14/50\n",
            "13/14 [==========================>...] - ETA: 47s \n",
            " Epoch 15/50\n",
            "13/14 [==========================>...] - ETA: 47s \n",
            " Epoch 16/50\n",
            "13/14 [==========================>...] - ETA: 47s \n",
            " Epoch 17/50\n",
            "13/14 [==========================>...] - ETA: 47s \n",
            " Epoch 18/50\n",
            "13/14 [==========================>...] - ETA: 47s \n",
            " Epoch 19/50\n",
            "13/14 [==========================>...] - ETA: 47s \n",
            " Epoch 20/50\n",
            "13/14 [==========================>...] - ETA: 47s \n",
            " Epoch 21/50\n",
            "13/14 [==========================>...] - ETA: 47s \n",
            " Epoch 22/50\n",
            "13/14 [==========================>...] - ETA: 47s \n",
            " Epoch 23/50\n",
            "13/14 [==========================>...] - ETA: 47s \n",
            " Epoch 24/50\n",
            "12/14 [========================>.....] - ETA: 1:34"
          ]
        }
      ],
      "source": [
        "train(train_data, EPOCHS)"
      ]
    },
    {
      "cell_type": "code",
      "execution_count": null,
      "metadata": {
        "id": "zWdddOsqhh_C"
      },
      "outputs": [],
      "source": [
        "from tensorflow.keras.metrics import Precision, Recall"
      ]
    },
    {
      "cell_type": "code",
      "execution_count": null,
      "metadata": {
        "id": "fXG858Eb2AZ2"
      },
      "outputs": [],
      "source": [
        "test_var = test_data.as_numpy_iterator().next()"
      ]
    },
    {
      "cell_type": "code",
      "execution_count": null,
      "metadata": {
        "colab": {
          "base_uri": "https://localhost:8080/"
        },
        "id": "60K2-rT-bTz8",
        "outputId": "4215a00e-bc5a-48e1-831e-5ebdb22e62bd"
      },
      "outputs": [
        {
          "data": {
            "text/plain": [
              "array([[[[0.4252451 , 0.35857844, 0.31936276],\n",
              "         [0.34411764, 0.27156863, 0.23529412],\n",
              "         [0.27254903, 0.19411765, 0.16078432],\n",
              "         ...,\n",
              "         [0.02769608, 0.03553922, 0.02377451],\n",
              "         [0.0245098 , 0.03235294, 0.01470588],\n",
              "         [0.03529412, 0.04705882, 0.01960784]],\n",
              "\n",
              "        [[0.4120098 , 0.34632352, 0.30416667],\n",
              "         [0.34901962, 0.2764706 , 0.23627451],\n",
              "         [0.27181372, 0.19338235, 0.15759803],\n",
              "         ...,\n",
              "         [0.04240196, 0.04044118, 0.03553922],\n",
              "         [0.03848039, 0.04436275, 0.03357843],\n",
              "         [0.03210784, 0.03970588, 0.01862745]],\n",
              "\n",
              "        [[0.41985294, 0.35710785, 0.3002451 ],\n",
              "         [0.35392156, 0.28137255, 0.23088235],\n",
              "         [0.27892157, 0.20490196, 0.16102941],\n",
              "         ...,\n",
              "         [0.05490196, 0.04117647, 0.04068628],\n",
              "         [0.04019608, 0.03308824, 0.03480392],\n",
              "         [0.03235294, 0.03259804, 0.02401961]],\n",
              "\n",
              "        ...,\n",
              "\n",
              "        [[0.45514706, 0.2247549 , 0.14583333],\n",
              "         [0.33308825, 0.12916666, 0.06740196],\n",
              "         [0.25931373, 0.08627451, 0.03848039],\n",
              "         ...,\n",
              "         [0.00784314, 0.00392157, 0.        ],\n",
              "         [0.01078431, 0.00686275, 0.        ],\n",
              "         [0.00784314, 0.00392157, 0.        ]],\n",
              "\n",
              "        [[0.43970588, 0.21372549, 0.13553922],\n",
              "         [0.325     , 0.12696078, 0.0622549 ],\n",
              "         [0.25269607, 0.08627451, 0.02965686],\n",
              "         ...,\n",
              "         [0.01004902, 0.00612745, 0.        ],\n",
              "         [0.00686275, 0.00294118, 0.        ],\n",
              "         [0.00392157, 0.        , 0.        ]],\n",
              "\n",
              "        [[0.42745098, 0.20980392, 0.12843138],\n",
              "         [0.3110294 , 0.12083333, 0.05514706],\n",
              "         [0.2382353 , 0.07254902, 0.01568628],\n",
              "         ...,\n",
              "         [0.01176471, 0.00784314, 0.        ],\n",
              "         [0.00784314, 0.00392157, 0.        ],\n",
              "         [0.01176471, 0.00784314, 0.        ]]],\n",
              "\n",
              "\n",
              "       [[[0.42083332, 0.3737745 , 0.32671568],\n",
              "         [0.39411765, 0.3372549 , 0.28627452],\n",
              "         [0.36593136, 0.29730392, 0.2492647 ],\n",
              "         ...,\n",
              "         [0.2855392 , 0.2379902 , 0.15441176],\n",
              "         [0.2485294 , 0.20539215, 0.13284314],\n",
              "         [0.17696078, 0.14558823, 0.07107843]],\n",
              "\n",
              "        [[0.40588236, 0.36666667, 0.31960785],\n",
              "         [0.4014706 , 0.3526961 , 0.29803923],\n",
              "         [0.37058824, 0.30416667, 0.24730392],\n",
              "         ...,\n",
              "         [0.29803923, 0.24117647, 0.16078432],\n",
              "         [0.2504902 , 0.20539215, 0.12794118],\n",
              "         [0.18504901, 0.15367647, 0.07916667]],\n",
              "\n",
              "        [[0.40857843, 0.3752451 , 0.32671568],\n",
              "         [0.3870098 , 0.34632352, 0.2872549 ],\n",
              "         [0.35857844, 0.30686274, 0.24019608],\n",
              "         ...,\n",
              "         [0.28357843, 0.22671568, 0.14632353],\n",
              "         [0.25857842, 0.2134804 , 0.1360294 ],\n",
              "         [0.20980392, 0.17843138, 0.10392157]],\n",
              "\n",
              "        ...,\n",
              "\n",
              "        [[0.10588235, 0.07401961, 0.03112745],\n",
              "         [0.13553922, 0.10808823, 0.07867647],\n",
              "         [0.08627451, 0.06470589, 0.04117647],\n",
              "         ...,\n",
              "         [0.01960784, 0.01568628, 0.00784314],\n",
              "         [0.01960784, 0.01568628, 0.00784314],\n",
              "         [0.00882353, 0.00490196, 0.        ]],\n",
              "\n",
              "        [[0.10416666, 0.0627451 , 0.02426471],\n",
              "         [0.12941177, 0.09411765, 0.06862745],\n",
              "         [0.08529412, 0.05637255, 0.03357843],\n",
              "         ...,\n",
              "         [0.01666667, 0.0127451 , 0.00490196],\n",
              "         [0.01593137, 0.0120098 , 0.00416667],\n",
              "         [0.0127451 , 0.00882353, 0.00098039]],\n",
              "\n",
              "        [[0.13333334, 0.08137255, 0.04607843],\n",
              "         [0.13725491, 0.09607843, 0.07352941],\n",
              "         [0.09411765, 0.06470589, 0.04215686],\n",
              "         ...,\n",
              "         [0.01666667, 0.0127451 , 0.00490196],\n",
              "         [0.01960784, 0.01568628, 0.00784314],\n",
              "         [0.01568628, 0.01176471, 0.00392157]]],\n",
              "\n",
              "\n",
              "       [[[0.46666667, 0.43529412, 0.38431373],\n",
              "         [0.46642157, 0.4389706 , 0.3762255 ],\n",
              "         [0.45588234, 0.42843136, 0.35980392],\n",
              "         ...,\n",
              "         [0.3492647 , 0.27965686, 0.19387256],\n",
              "         [0.28382352, 0.22303921, 0.14166667],\n",
              "         [0.3252451 , 0.26642156, 0.17622548]],\n",
              "\n",
              "        [[0.45808825, 0.42671567, 0.37573528],\n",
              "         [0.46004903, 0.42941177, 0.3762255 ],\n",
              "         [0.45857844, 0.43088236, 0.36887255],\n",
              "         ...,\n",
              "         [0.3375    , 0.26764706, 0.18333334],\n",
              "         [0.29705882, 0.23014706, 0.15171568],\n",
              "         [0.30294117, 0.24313726, 0.15294118]],\n",
              "\n",
              "        [[0.4615196 , 0.4360294 , 0.38210785],\n",
              "         [0.4509804 , 0.41960785, 0.36862746],\n",
              "         [0.45196077, 0.42132354, 0.36813724],\n",
              "         ...,\n",
              "         [0.31617647, 0.24485295, 0.16715686],\n",
              "         [0.2764706 , 0.20588236, 0.12965687],\n",
              "         [0.29436275, 0.22573529, 0.1384804 ]],\n",
              "\n",
              "        ...,\n",
              "\n",
              "        [[0.360049  , 0.17377451, 0.10612745],\n",
              "         [0.27450982, 0.10686275, 0.04607843],\n",
              "         [0.24607843, 0.10367647, 0.04754902],\n",
              "         ...,\n",
              "         [0.04485294, 0.03259804, 0.00686275],\n",
              "         [0.05759804, 0.0379902 , 0.01960784],\n",
              "         [0.06470589, 0.03431373, 0.01960784]],\n",
              "\n",
              "        [[0.33161765, 0.14534314, 0.08357843],\n",
              "         [0.26102942, 0.09044117, 0.04044118],\n",
              "         [0.24313726, 0.1       , 0.0504902 ],\n",
              "         ...,\n",
              "         [0.04779412, 0.03406863, 0.01348039],\n",
              "         [0.0627451 , 0.0372549 , 0.01519608],\n",
              "         [0.06078431, 0.03333334, 0.00980392]],\n",
              "\n",
              "        [[0.34215686, 0.15294118, 0.09803922],\n",
              "         [0.2860294 , 0.11519608, 0.06593137],\n",
              "         [0.23504902, 0.09191176, 0.04583333],\n",
              "         ...,\n",
              "         [0.05122549, 0.0375    , 0.01691177],\n",
              "         [0.06372549, 0.0382353 , 0.01470588],\n",
              "         [0.07450981, 0.03921569, 0.01960784]]],\n",
              "\n",
              "\n",
              "       ...,\n",
              "\n",
              "\n",
              "       [[[0.20196079, 0.12352941, 0.0882353 ],\n",
              "         [0.21078432, 0.14019608, 0.10098039],\n",
              "         [0.22745098, 0.15686275, 0.11176471],\n",
              "         ...,\n",
              "         [0.52205884, 0.45269608, 0.34313726],\n",
              "         [0.5882353 , 0.5137255 , 0.39607844],\n",
              "         [0.60759807, 0.54289216, 0.4242647 ]],\n",
              "\n",
              "        [[0.20122549, 0.12279411, 0.0875    ],\n",
              "         [0.21323529, 0.13627452, 0.0997549 ],\n",
              "         [0.22671568, 0.15563725, 0.11029412],\n",
              "         ...,\n",
              "         [0.5034314 , 0.44730392, 0.34681374],\n",
              "         [0.59460783, 0.51985294, 0.40490195],\n",
              "         [0.6039216 , 0.5352941 , 0.41568628]],\n",
              "\n",
              "        [[0.21960784, 0.14117648, 0.10588235],\n",
              "         [0.2382353 , 0.15980393, 0.12254902],\n",
              "         [0.25612745, 0.17916666, 0.13529412],\n",
              "         ...,\n",
              "         [0.47720587, 0.452451  , 0.35196078],\n",
              "         [0.5688726 , 0.5022059 , 0.38578433],\n",
              "         [0.60784316, 0.53333336, 0.40784314]],\n",
              "\n",
              "        ...,\n",
              "\n",
              "        [[0.02181373, 0.01789216, 0.01004902],\n",
              "         [0.01470588, 0.00784314, 0.00098039],\n",
              "         [0.02352941, 0.00784314, 0.00392157],\n",
              "         ...,\n",
              "         [0.4392157 , 0.15294118, 0.07892157],\n",
              "         [0.43529412, 0.14901961, 0.07647059],\n",
              "         [0.44509804, 0.15882353, 0.08627451]],\n",
              "\n",
              "        [[0.0247549 , 0.02083333, 0.0129902 ],\n",
              "         [0.01789216, 0.01102941, 0.00416667],\n",
              "         [0.02377451, 0.00808824, 0.00416667],\n",
              "         ...,\n",
              "         [0.41029412, 0.12401961, 0.05588235],\n",
              "         [0.42156863, 0.13529412, 0.06862745],\n",
              "         [0.42156863, 0.13529412, 0.06862745]],\n",
              "\n",
              "        [[0.01176471, 0.01176471, 0.00392157],\n",
              "         [0.01372549, 0.00686275, 0.        ],\n",
              "         [0.02352941, 0.00784314, 0.00392157],\n",
              "         ...,\n",
              "         [0.40980393, 0.12352941, 0.05686275],\n",
              "         [0.42818627, 0.14191176, 0.0752451 ],\n",
              "         [0.4375    , 0.15122549, 0.08455882]]],\n",
              "\n",
              "\n",
              "       [[[0.45661765, 0.40955883, 0.3625    ],\n",
              "         [0.4490196 , 0.4       , 0.35196078],\n",
              "         [0.44215685, 0.38137254, 0.33039215],\n",
              "         ...,\n",
              "         [0.30588236, 0.26960784, 0.18921569],\n",
              "         [0.30318627, 0.24044117, 0.1629902 ],\n",
              "         [0.29534313, 0.2247549 , 0.14632353]],\n",
              "\n",
              "        [[0.4610294 , 0.4139706 , 0.36691177],\n",
              "         [0.44877452, 0.3997549 , 0.35171568],\n",
              "         [0.43112746, 0.3762255 , 0.3252451 ],\n",
              "         ...,\n",
              "         [0.28112745, 0.24485295, 0.17034313],\n",
              "         [0.30343136, 0.24068627, 0.16323529],\n",
              "         [0.27279413, 0.20318627, 0.1247549 ]],\n",
              "\n",
              "        [[0.46053922, 0.4134804 , 0.36642158],\n",
              "         [0.4490196 , 0.4014706 , 0.3526961 ],\n",
              "         [0.4343137 , 0.3852941 , 0.33137256],\n",
              "         ...,\n",
              "         [0.22769608, 0.19142157, 0.11887255],\n",
              "         [0.30490196, 0.24803922, 0.16764706],\n",
              "         [0.29117647, 0.22745098, 0.14019608]],\n",
              "\n",
              "        ...,\n",
              "\n",
              "        [[0.0627451 , 0.04705882, 0.00588235],\n",
              "         [0.06544118, 0.0497549 , 0.00857843],\n",
              "         [0.06078431, 0.04509804, 0.00833333],\n",
              "         ...,\n",
              "         [0.04019608, 0.02647059, 0.00588235],\n",
              "         [0.06862745, 0.04313726, 0.01372549],\n",
              "         [0.08921569, 0.05098039, 0.01764706]],\n",
              "\n",
              "        [[0.06862745, 0.04411765, 0.01764706],\n",
              "         [0.06764706, 0.04313726, 0.01666667],\n",
              "         [0.0629902 , 0.03848039, 0.00759804],\n",
              "         ...,\n",
              "         [0.02034314, 0.01446078, 0.        ],\n",
              "         [0.04387255, 0.02426471, 0.00147059],\n",
              "         [0.07941177, 0.05      , 0.01960784]],\n",
              "\n",
              "        [[0.05980392, 0.03235294, 0.00882353],\n",
              "         [0.06691176, 0.03946079, 0.01593137],\n",
              "         [0.06666667, 0.03921569, 0.01568628],\n",
              "         ...,\n",
              "         [0.01078431, 0.0127451 , 0.        ],\n",
              "         [0.02990196, 0.0127451 , 0.        ],\n",
              "         [0.05784314, 0.0382353 , 0.01470588]]],\n",
              "\n",
              "\n",
              "       [[[0.4370098 , 0.4134804 , 0.3507353 ],\n",
              "         [0.44019607, 0.41568628, 0.3509804 ],\n",
              "         [0.43137255, 0.40392157, 0.33039215],\n",
              "         ...,\n",
              "         [0.28382352, 0.23284313, 0.16470589],\n",
              "         [0.32647058, 0.2784314 , 0.19509804],\n",
              "         [0.2870098 , 0.23995098, 0.14583333]],\n",
              "\n",
              "        [[0.44754902, 0.4240196 , 0.3632353 ],\n",
              "         [0.4345588 , 0.41004902, 0.34583333],\n",
              "         [0.42303923, 0.39558825, 0.3254902 ],\n",
              "         ...,\n",
              "         [0.3019608 , 0.2509804 , 0.1764706 ],\n",
              "         [0.34754902, 0.2997549 , 0.21568628],\n",
              "         [0.30465686, 0.25759804, 0.16348039]],\n",
              "\n",
              "        [[0.4490196 , 0.4254902 , 0.37058824],\n",
              "         [0.44387254, 0.41495097, 0.35882354],\n",
              "         [0.4254902 , 0.39803922, 0.33382353],\n",
              "         ...,\n",
              "         [0.29828432, 0.2504902 , 0.16642156],\n",
              "         [0.34338236, 0.29632354, 0.20563726],\n",
              "         [0.31960785, 0.27254903, 0.17843138]],\n",
              "\n",
              "        ...,\n",
              "\n",
              "        [[0.10220588, 0.06642157, 0.04705882],\n",
              "         [0.0754902 , 0.05      , 0.02794118],\n",
              "         [0.04632353, 0.03112745, 0.0127451 ],\n",
              "         ...,\n",
              "         [0.28259805, 0.07671569, 0.03455883],\n",
              "         [0.31740198, 0.0997549 , 0.0497549 ],\n",
              "         [0.36666667, 0.14313726, 0.07450981]],\n",
              "\n",
              "        [[0.10857843, 0.06397059, 0.04240196],\n",
              "         [0.07647059, 0.04313726, 0.01813726],\n",
              "         [0.04705882, 0.02598039, 0.00392157],\n",
              "         ...,\n",
              "         [0.27058825, 0.06470589, 0.02058824],\n",
              "         [0.3262255 , 0.10955882, 0.05759804],\n",
              "         [0.36568627, 0.14215687, 0.07352941]],\n",
              "\n",
              "        [[0.08137255, 0.02843137, 0.00588235],\n",
              "         [0.0754902 , 0.04019608, 0.0127451 ],\n",
              "         [0.05661765, 0.03504902, 0.00955882],\n",
              "         ...,\n",
              "         [0.27965686, 0.07377451, 0.02965686],\n",
              "         [0.32181373, 0.10514706, 0.05318628],\n",
              "         [0.3480392 , 0.1245098 , 0.05588235]]]], dtype=float32)"
            ]
          },
          "execution_count": 56,
          "metadata": {},
          "output_type": "execute_result"
        }
      ],
      "source": [
        "test_var[0]"
      ]
    },
    {
      "cell_type": "code",
      "execution_count": null,
      "metadata": {
        "id": "rHIDWe2JVKPU"
      },
      "outputs": [],
      "source": [
        "test_input, test_val, y_true = test_data.as_numpy_iterator().next()"
      ]
    },
    {
      "cell_type": "code",
      "execution_count": null,
      "metadata": {
        "colab": {
          "base_uri": "https://localhost:8080/"
        },
        "id": "fh4r8xNGhZyU",
        "outputId": "ac68bab2-ebe2-4bc8-87e2-b1bb906f5e11"
      },
      "outputs": [
        {
          "data": {
            "text/plain": [
              "array([[[[8.11274499e-02, 6.54411763e-02, 6.49509802e-02],\n",
              "         [9.60784331e-02, 7.94117674e-02, 6.91176504e-02],\n",
              "         [1.51960790e-01, 1.23529412e-01, 1.11764707e-01],\n",
              "         ...,\n",
              "         [4.93382365e-01, 4.48284328e-01, 3.78186285e-01],\n",
              "         [4.49999988e-01, 3.99754912e-01, 3.23039204e-01],\n",
              "         [3.71568620e-01, 3.25980395e-01, 2.35539213e-01]],\n",
              "\n",
              "        [[1.04411766e-01, 8.67647082e-02, 8.38235319e-02],\n",
              "         [1.50000006e-01, 1.24754898e-01, 1.13970585e-01],\n",
              "         [2.27696076e-01, 1.89460784e-01, 1.78676471e-01],\n",
              "         ...,\n",
              "         [5.06127477e-01, 4.63725477e-01, 3.96568626e-01],\n",
              "         [4.10294116e-01, 3.72549027e-01, 3.00245106e-01],\n",
              "         [2.85539210e-01, 2.57843137e-01, 1.73774511e-01]],\n",
              "\n",
              "        [[1.67647064e-01, 1.38970584e-01, 1.30882353e-01],\n",
              "         [2.24509805e-01, 1.86274514e-01, 1.75490201e-01],\n",
              "         [3.11764717e-01, 2.64705896e-01, 2.44362742e-01],\n",
              "         ...,\n",
              "         [4.90441173e-01, 4.65931386e-01, 3.82598042e-01],\n",
              "         [4.17156875e-01, 4.03676480e-01, 3.17401975e-01],\n",
              "         [2.87745088e-01, 2.83578426e-01, 1.91176474e-01]],\n",
              "\n",
              "        ...,\n",
              "\n",
              "        [[4.21568640e-02, 3.03921569e-02, 1.07843140e-02],\n",
              "         [2.81862747e-02, 2.23039221e-02, 2.69607850e-03],\n",
              "         [2.20588241e-02, 1.76470596e-02, 2.45098054e-04],\n",
              "         ...,\n",
              "         [3.50245088e-01, 9.92647037e-02, 5.22058830e-02],\n",
              "         [3.82352948e-01, 1.34313732e-01, 7.84313753e-02],\n",
              "         [3.77450973e-01, 1.30392164e-01, 7.15686306e-02]],\n",
              "\n",
              "        [[5.39215691e-02, 3.62745114e-02, 1.37254903e-02],\n",
              "         [4.36274521e-02, 2.74509806e-02, 5.63725503e-03],\n",
              "         [3.70098054e-02, 2.67156865e-02, 7.10784318e-03],\n",
              "         ...,\n",
              "         [3.46323520e-01, 9.60784331e-02, 4.68137264e-02],\n",
              "         [3.78431380e-01, 1.31372556e-01, 7.25490227e-02],\n",
              "         [3.93137246e-01, 1.37254909e-01, 7.54901990e-02]],\n",
              "\n",
              "        [[6.17647059e-02, 4.21568640e-02, 1.86274517e-02],\n",
              "         [4.60784324e-02, 2.84313727e-02, 3.92156886e-03],\n",
              "         [3.62745114e-02, 2.45098043e-02, 2.94117653e-03],\n",
              "         ...,\n",
              "         [3.46078426e-01, 1.01960786e-01, 4.31372561e-02],\n",
              "         [3.81372541e-01, 1.25490203e-01, 6.37254938e-02],\n",
              "         [3.91176462e-01, 1.32352948e-01, 6.96078464e-02]]],\n",
              "\n",
              "\n",
              "       [[[4.42156851e-01, 4.10784304e-01, 3.59803915e-01],\n",
              "         [4.32107836e-01, 3.99754912e-01, 3.46813738e-01],\n",
              "         [4.29901958e-01, 3.94607842e-01, 3.35784316e-01],\n",
              "         ...,\n",
              "         [2.64705896e-01, 2.24509805e-01, 1.45098045e-01],\n",
              "         [3.01470578e-01, 2.70098031e-01, 1.87745094e-01],\n",
              "         [2.88235307e-01, 2.64705896e-01, 1.78431377e-01]],\n",
              "\n",
              "        [[4.31372553e-01, 4.00980383e-01, 3.47058833e-01],\n",
              "         [4.31372553e-01, 3.99754912e-01, 3.44607830e-01],\n",
              "         [4.26715672e-01, 3.92892152e-01, 3.33333343e-01],\n",
              "         ...,\n",
              "         [2.59313732e-01, 2.18382359e-01, 1.39215693e-01],\n",
              "         [3.04166675e-01, 2.72058815e-01, 1.89950988e-01],\n",
              "         [3.12990189e-01, 2.81617641e-01, 1.99264705e-01]],\n",
              "\n",
              "        [[4.30392146e-01, 4.02941167e-01, 3.40196073e-01],\n",
              "         [4.19852942e-01, 3.91911775e-01, 3.29411775e-01],\n",
              "         [4.13970590e-01, 3.86029422e-01, 3.23529422e-01],\n",
              "         ...,\n",
              "         [2.56372541e-01, 2.13235289e-01, 1.34803921e-01],\n",
              "         [3.04901958e-01, 2.63970584e-01, 1.80392161e-01],\n",
              "         [3.08823526e-01, 2.68627465e-01, 1.83333337e-01]],\n",
              "\n",
              "        ...,\n",
              "\n",
              "        [[5.09803928e-02, 3.52941193e-02, 2.35294122e-02],\n",
              "         [4.01960798e-02, 2.45098043e-02, 1.27450982e-02],\n",
              "         [4.01960798e-02, 2.45098043e-02, 1.27450982e-02],\n",
              "         ...,\n",
              "         [8.03921595e-02, 1.86274517e-02, 0.00000000e+00],\n",
              "         [1.05882354e-01, 3.23529430e-02, 1.66666675e-02],\n",
              "         [1.34313732e-01, 4.01960798e-02, 2.45098043e-02]],\n",
              "\n",
              "        [[5.09803928e-02, 4.41176482e-02, 2.94117648e-02],\n",
              "         [5.00000007e-02, 3.43137272e-02, 2.25490201e-02],\n",
              "         [4.33823541e-02, 2.76960786e-02, 1.59313735e-02],\n",
              "         ...,\n",
              "         [9.46078449e-02, 2.18137261e-02, 1.71568629e-03],\n",
              "         [1.02941178e-01, 2.94117648e-02, 1.37254903e-02],\n",
              "         [1.32107839e-01, 3.79901975e-02, 2.23039221e-02]],\n",
              "\n",
              "        [[5.09803928e-02, 4.70588244e-02, 2.74509806e-02],\n",
              "         [4.73039225e-02, 4.14215699e-02, 2.18137261e-02],\n",
              "         [3.92156877e-02, 2.74509806e-02, 7.84313772e-03],\n",
              "         ...,\n",
              "         [9.09313709e-02, 1.64215695e-02, 0.00000000e+00],\n",
              "         [9.77941155e-02, 2.32843142e-02, 1.71568629e-03],\n",
              "         [1.16666667e-01, 3.43137272e-02, 1.47058824e-02]]],\n",
              "\n",
              "\n",
              "       [[[5.31862751e-02, 5.53921573e-02, 4.09313738e-02],\n",
              "         [6.42156899e-02, 5.83333336e-02, 3.94607857e-02],\n",
              "         [1.17401958e-01, 1.05637252e-01, 7.86764696e-02],\n",
              "         ...,\n",
              "         [2.72549033e-01, 2.15686277e-01, 1.41176477e-01],\n",
              "         [3.24019611e-01, 2.78921574e-01, 2.01470584e-01],\n",
              "         [3.03921580e-01, 2.72549033e-01, 1.90196082e-01]],\n",
              "\n",
              "        [[8.18627477e-02, 6.74019605e-02, 4.87745106e-02],\n",
              "         [1.10539213e-01, 9.55882370e-02, 6.71568662e-02],\n",
              "         [1.43382356e-01, 1.24754898e-01, 9.04411748e-02],\n",
              "         ...,\n",
              "         [2.98039228e-01, 2.40686268e-01, 1.65686280e-01],\n",
              "         [3.22794110e-01, 2.72794127e-01, 1.95343137e-01],\n",
              "         [3.12254906e-01, 2.68137246e-01, 1.87745094e-01]],\n",
              "\n",
              "        [[1.17892154e-01, 9.31372568e-02, 6.15196079e-02],\n",
              "         [1.63970590e-01, 1.30637258e-01, 9.63235274e-02],\n",
              "         [1.68137252e-01, 1.29901960e-01, 9.16666687e-02],\n",
              "         ...,\n",
              "         [2.96323538e-01, 2.33088240e-01, 1.54411763e-01],\n",
              "         [3.26715678e-01, 2.70098031e-01, 1.87009797e-01],\n",
              "         [3.27450991e-01, 2.71568626e-01, 1.88235298e-01]],\n",
              "\n",
              "        ...,\n",
              "\n",
              "        [[5.46568632e-02, 3.89705896e-02, 2.72058826e-02],\n",
              "         [5.85784316e-02, 4.24019620e-02, 2.94117648e-02],\n",
              "         [5.61274514e-02, 3.84803936e-02, 2.18137261e-02],\n",
              "         ...,\n",
              "         [1.19607843e-01, 2.08333340e-02, 7.35294120e-03],\n",
              "         [1.16666667e-01, 2.25490201e-02, 1.42156864e-02],\n",
              "         [1.00000001e-01, 1.47058824e-02, 3.92156886e-03]],\n",
              "\n",
              "        [[4.11764719e-02, 3.43137272e-02, 1.96078438e-02],\n",
              "         [4.70588244e-02, 3.45588252e-02, 1.64215695e-02],\n",
              "         [3.35784331e-02, 2.18137261e-02, 2.20588245e-03],\n",
              "         ...,\n",
              "         [1.28431380e-01, 1.86274517e-02, 4.65686293e-03],\n",
              "         [1.24509804e-01, 2.57352944e-02, 1.22549022e-02],\n",
              "         [1.11764707e-01, 1.76470596e-02, 3.92156886e-03]],\n",
              "\n",
              "        [[4.09313738e-02, 3.70098054e-02, 1.74019616e-02],\n",
              "         [3.43137272e-02, 3.03921569e-02, 1.07843140e-02],\n",
              "         [2.15686280e-02, 1.76470596e-02, 2.45098054e-04],\n",
              "         ...,\n",
              "         [1.34803921e-01, 2.18137261e-02, 6.12745108e-03],\n",
              "         [1.20343134e-01, 1.93627458e-02, 7.35294132e-04],\n",
              "         [1.14705883e-01, 2.05882359e-02, 5.88235306e-03]]],\n",
              "\n",
              "\n",
              "       ...,\n",
              "\n",
              "\n",
              "       [[[2.17156857e-01, 1.38725489e-01, 9.55882370e-02],\n",
              "         [2.20833331e-01, 1.44362748e-01, 1.00245096e-01],\n",
              "         [2.11764708e-01, 1.41176477e-01, 8.82352963e-02],\n",
              "         ...,\n",
              "         [5.99264681e-01, 5.44362724e-01, 4.42401975e-01],\n",
              "         [6.09068632e-01, 5.48284292e-01, 4.55147058e-01],\n",
              "         [5.81617653e-01, 5.18872559e-01, 4.28676456e-01]],\n",
              "\n",
              "        [[2.03186274e-01, 1.24754898e-01, 8.16176459e-02],\n",
              "         [2.19852939e-01, 1.43137261e-01, 9.85294133e-02],\n",
              "         [2.16666669e-01, 1.45833328e-01, 9.24019590e-02],\n",
              "         ...,\n",
              "         [5.62990189e-01, 4.99264717e-01, 3.98039222e-01],\n",
              "         [6.11764729e-01, 5.48039198e-01, 4.49019611e-01],\n",
              "         [5.94117641e-01, 5.24509788e-01, 4.28431362e-01]],\n",
              "\n",
              "        [[2.06617653e-01, 1.28186271e-01, 8.50490183e-02],\n",
              "         [2.08333328e-01, 1.33088231e-01, 8.03921595e-02],\n",
              "         [2.15931371e-01, 1.42156869e-01, 8.50490183e-02],\n",
              "         ...,\n",
              "         [5.65196097e-01, 4.96323526e-01, 3.89215678e-01],\n",
              "         [6.04166687e-01, 5.28676450e-01, 4.23774511e-01],\n",
              "         [6.00980401e-01, 5.26225507e-01, 4.18627441e-01]],\n",
              "\n",
              "        ...,\n",
              "\n",
              "        [[6.91176504e-02, 3.38235311e-02, 6.37254911e-03],\n",
              "         [8.33333358e-02, 5.24509810e-02, 2.27941182e-02],\n",
              "         [8.03921595e-02, 4.95098047e-02, 1.98529419e-02],\n",
              "         ...,\n",
              "         [1.20098041e-02, 1.20098041e-02, 4.16666688e-03],\n",
              "         [2.08333340e-02, 2.08333340e-02, 1.29901962e-02],\n",
              "         [2.74509806e-02, 2.74509806e-02, 1.96078438e-02]],\n",
              "\n",
              "        [[7.15686306e-02, 3.62745114e-02, 8.82352982e-03],\n",
              "         [7.35294148e-02, 3.82352956e-02, 1.07843140e-02],\n",
              "         [7.20588267e-02, 3.67647074e-02, 9.31372587e-03],\n",
              "         ...,\n",
              "         [1.27450982e-02, 1.27450982e-02, 4.90196096e-03],\n",
              "         [1.88725498e-02, 1.88725498e-02, 1.10294120e-02],\n",
              "         [2.74509806e-02, 2.74509806e-02, 1.96078438e-02]],\n",
              "\n",
              "        [[6.56862780e-02, 3.03921569e-02, 1.07843140e-02],\n",
              "         [6.17647059e-02, 2.64705885e-02, 0.00000000e+00],\n",
              "         [6.17647059e-02, 2.64705885e-02, 0.00000000e+00],\n",
              "         ...,\n",
              "         [7.84313772e-03, 7.84313772e-03, 7.84313772e-03],\n",
              "         [1.47058824e-02, 1.47058824e-02, 1.47058824e-02],\n",
              "         [2.45098043e-02, 2.45098043e-02, 2.45098043e-02]]],\n",
              "\n",
              "\n",
              "       [[[4.49019611e-01, 4.01960790e-01, 3.54901969e-01],\n",
              "         [4.35294122e-01, 3.88235301e-01, 3.39215696e-01],\n",
              "         [4.25490201e-01, 3.78431380e-01, 3.23529422e-01],\n",
              "         ...,\n",
              "         [1.92156866e-01, 1.53921574e-01, 9.55882370e-02],\n",
              "         [2.10539222e-01, 1.60539210e-01, 9.70588252e-02],\n",
              "         [2.45833337e-01, 1.83088228e-01, 1.20343134e-01]],\n",
              "\n",
              "        [[4.43137258e-01, 3.99019599e-01, 3.49019617e-01],\n",
              "         [4.29166675e-01, 3.85049015e-01, 3.29166681e-01],\n",
              "         [4.25490201e-01, 3.81372541e-01, 3.25490206e-01],\n",
              "         ...,\n",
              "         [1.71078429e-01, 1.31862745e-01, 8.40686262e-02],\n",
              "         [1.74999997e-01, 1.24264702e-01, 7.13235289e-02],\n",
              "         [2.16421574e-01, 1.65441170e-01, 1.01960786e-01]],\n",
              "\n",
              "        [[4.43137258e-01, 4.07843143e-01, 3.49019617e-01],\n",
              "         [4.30147052e-01, 3.94852936e-01, 3.36029410e-01],\n",
              "         [4.14460778e-01, 3.76960784e-01, 3.24754894e-01],\n",
              "         ...,\n",
              "         [1.47549018e-01, 1.17156863e-01, 7.79411793e-02],\n",
              "         [1.76960781e-01, 1.37745097e-01, 9.14215669e-02],\n",
              "         [1.92401960e-01, 1.43627450e-01, 8.89705867e-02]],\n",
              "\n",
              "        ...,\n",
              "\n",
              "        [[2.12500006e-01, 1.06372550e-01, 7.05882385e-02],\n",
              "         [1.62745103e-01, 8.52941200e-02, 5.19607849e-02],\n",
              "         [1.57107845e-01, 9.63235274e-02, 6.86274543e-02],\n",
              "         ...,\n",
              "         [8.82352982e-03, 1.25000002e-02, 9.80392215e-04],\n",
              "         [1.00490199e-02, 1.15196081e-02, 2.20588245e-03],\n",
              "         [1.17647061e-02, 7.84313772e-03, 0.00000000e+00]],\n",
              "\n",
              "        [[2.41421565e-01, 1.23774506e-01, 8.30882341e-02],\n",
              "         [1.74509808e-01, 9.19117630e-02, 6.00490198e-02],\n",
              "         [1.48284316e-01, 9.19117630e-02, 5.83333336e-02],\n",
              "         ...,\n",
              "         [1.39705883e-02, 1.17647061e-02, 3.92156886e-03],\n",
              "         [7.10784318e-03, 7.10784318e-03, 0.00000000e+00],\n",
              "         [1.61764715e-02, 1.00490199e-02, 2.94117653e-03]],\n",
              "\n",
              "        [[2.30392158e-01, 1.02941178e-01, 5.73529415e-02],\n",
              "         [1.69362739e-01, 8.79901946e-02, 4.58333343e-02],\n",
              "         [1.35294124e-01, 8.33333358e-02, 4.80392165e-02],\n",
              "         ...,\n",
              "         [1.07843140e-02, 7.84313772e-03, 0.00000000e+00],\n",
              "         [1.76470596e-02, 1.47058824e-02, 6.86274515e-03],\n",
              "         [2.74509806e-02, 1.17647061e-02, 1.56862754e-02]]],\n",
              "\n",
              "\n",
              "       [[[1.99019611e-01, 1.28431380e-01, 8.92156884e-02],\n",
              "         [2.12745100e-01, 1.42156869e-01, 9.50980410e-02],\n",
              "         [2.22058818e-01, 1.48529410e-01, 9.55882370e-02],\n",
              "         ...,\n",
              "         [5.64951003e-01, 4.94362742e-01, 4.00735289e-01],\n",
              "         [5.81372559e-01, 5.24509788e-01, 4.24019605e-01],\n",
              "         [6.03921592e-01, 5.49019635e-01, 4.47058827e-01]],\n",
              "\n",
              "        [[1.95343137e-01, 1.24754898e-01, 8.35784301e-02],\n",
              "         [2.08088234e-01, 1.37500003e-01, 8.99509788e-02],\n",
              "         [2.26470590e-01, 1.52941182e-01, 9.80392173e-02],\n",
              "         ...,\n",
              "         [5.40196061e-01, 4.64705884e-01, 3.63725483e-01],\n",
              "         [6.04166687e-01, 5.40441155e-01, 4.36519593e-01],\n",
              "         [6.13480389e-01, 5.50490201e-01, 4.43872541e-01]],\n",
              "\n",
              "        [[2.06617653e-01, 1.36029407e-01, 8.89705867e-02],\n",
              "         [2.19607845e-01, 1.49019614e-01, 1.00000001e-01],\n",
              "         [2.32107848e-01, 1.58578426e-01, 1.00735292e-01],\n",
              "         ...,\n",
              "         [5.29656887e-01, 4.59313720e-01, 3.48774523e-01],\n",
              "         [6.08333349e-01, 5.35784304e-01, 4.12254900e-01],\n",
              "         [6.12745106e-01, 5.49019635e-01, 4.22549009e-01]],\n",
              "\n",
              "        ...,\n",
              "\n",
              "        [[1.17647061e-02, 3.92156886e-03, 7.84313772e-03],\n",
              "         [1.07843140e-02, 2.94117653e-03, 6.86274515e-03],\n",
              "         [1.39705883e-02, 6.12745108e-03, 1.00490199e-02],\n",
              "         ...,\n",
              "         [4.62990195e-01, 2.02205881e-01, 1.11029409e-01],\n",
              "         [4.85294104e-01, 2.09803924e-01, 1.24509804e-01],\n",
              "         [5.00000000e-01, 2.16666669e-01, 1.33333340e-01]],\n",
              "\n",
              "        [[1.07843140e-02, 2.94117653e-03, 6.86274515e-03],\n",
              "         [1.07843140e-02, 2.94117653e-03, 6.86274515e-03],\n",
              "         [1.17647061e-02, 3.92156886e-03, 7.84313772e-03],\n",
              "         ...,\n",
              "         [4.49999988e-01, 1.84803918e-01, 1.01715684e-01],\n",
              "         [4.66421574e-01, 1.90931380e-01, 1.11519605e-01],\n",
              "         [4.83088225e-01, 2.02696085e-01, 1.25245094e-01]],\n",
              "\n",
              "        [[1.56862754e-02, 7.84313772e-03, 1.17647061e-02],\n",
              "         [1.56862754e-02, 7.84313772e-03, 1.17647061e-02],\n",
              "         [1.93627458e-02, 1.15196081e-02, 1.54411765e-02],\n",
              "         ...,\n",
              "         [4.36029404e-01, 1.69362739e-01, 7.91666657e-02],\n",
              "         [4.59803909e-01, 1.84313729e-01, 9.70588252e-02],\n",
              "         [4.57843125e-01, 1.79411769e-01, 9.31372568e-02]]]],\n",
              "      dtype=float32)"
            ]
          },
          "execution_count": 58,
          "metadata": {},
          "output_type": "execute_result"
        }
      ],
      "source": [
        "test_input"
      ]
    },
    {
      "cell_type": "code",
      "execution_count": null,
      "metadata": {
        "colab": {
          "base_uri": "https://localhost:8080/"
        },
        "id": "ybbOOUR8dDIS",
        "outputId": "bede96d6-bbfd-4b9e-fd07-62a63f2c9c9f"
      },
      "outputs": [
        {
          "name": "stdout",
          "output_type": "stream",
          "text": [
            "Shape of test_input: (20, 100, 100, 3)\n",
            "Type of test_input: <class 'numpy.ndarray'>\n",
            "Shape of test_val: (20, 100, 100, 3)\n",
            "Type of test_val: <class 'numpy.ndarray'>\n"
          ]
        }
      ],
      "source": [
        "print(\"Shape of test_input:\", test_input.shape)\n",
        "print(\"Type of test_input:\", type(test_input))\n",
        "print(\"Shape of test_val:\", test_val.shape)\n",
        "print(\"Type of test_val:\", type(test_val))"
      ]
    },
    {
      "cell_type": "code",
      "execution_count": null,
      "metadata": {
        "colab": {
          "base_uri": "https://localhost:8080/"
        },
        "id": "1KUOr7EheWyq",
        "outputId": "4bc87182-795a-4f78-dacc-a897b5375bad"
      },
      "outputs": [
        {
          "name": "stdout",
          "output_type": "stream",
          "text": [
            "1/1 [==============================] - 0s 352ms/step\n"
          ]
        },
        {
          "data": {
            "text/plain": [
              "array([[9.7038424e-01],\n",
              "       [2.4430314e-04],\n",
              "       [2.5209560e-04],\n",
              "       [9.9996912e-01],\n",
              "       [1.6228173e-02],\n",
              "       [7.8473561e-02],\n",
              "       [9.9999797e-01],\n",
              "       [1.0711887e-03],\n",
              "       [2.0691531e-04],\n",
              "       [9.3983236e-04],\n",
              "       [9.9989188e-01],\n",
              "       [9.9519205e-01],\n",
              "       [2.1989614e-02],\n",
              "       [1.1011988e-03],\n",
              "       [9.9967253e-01],\n",
              "       [1.6385905e-04],\n",
              "       [7.3443907e-01],\n",
              "       [9.8532382e-03],\n",
              "       [3.4874797e-02],\n",
              "       [9.9999988e-01]], dtype=float32)"
            ]
          },
          "execution_count": 60,
          "metadata": {},
          "output_type": "execute_result"
        }
      ],
      "source": [
        "\n",
        "# Convert test_val from grayscale to RGB\n",
        "# test_val_rgb = np.repeat(test_val, 3, axis=-1)\n",
        "\n",
        "# # Check new shapes\n",
        "# print(\"Shape of test_input:\", test_input.shape)\n",
        "# print(\"Shape of test_val_rgb:\", test_val_rgb.shape)\n",
        "\n",
        "# Run the prediction\n",
        "y_hat = siamese_model.predict([test_input, test_val])\n",
        "y_hat\n",
        "# y_hat = siamese_model.predict([test_input[np.newaxis, ...], test_val[np.newaxis, ...]])\n",
        "# y_hat\n"
      ]
    },
    {
      "cell_type": "code",
      "execution_count": null,
      "metadata": {
        "colab": {
          "base_uri": "https://localhost:8080/"
        },
        "id": "klgqY9aEhoYm",
        "outputId": "f5cfc4b7-5428-4fec-8308-bc28cf4a59a0"
      },
      "outputs": [
        {
          "data": {
            "text/plain": [
              "[1, 0, 0, 1, 0, 0, 1, 0, 0, 0, 1, 1, 0, 0, 1, 0, 1, 0, 0, 1]"
            ]
          },
          "execution_count": 61,
          "metadata": {},
          "output_type": "execute_result"
        }
      ],
      "source": [
        "[1 if prediction > 0.5 else 0 for prediction in y_hat]"
      ]
    },
    {
      "cell_type": "code",
      "execution_count": null,
      "metadata": {
        "colab": {
          "base_uri": "https://localhost:8080/"
        },
        "id": "attpBoSOs0un",
        "outputId": "8920e508-4eb8-4404-a0ab-4a9f21037621"
      },
      "outputs": [
        {
          "data": {
            "text/plain": [
              "array([1., 0., 0., 1., 0., 0., 1., 0., 0., 0., 1., 1., 0., 0., 1., 0., 1.,\n",
              "       0., 0., 1.], dtype=float32)"
            ]
          },
          "execution_count": 62,
          "metadata": {},
          "output_type": "execute_result"
        }
      ],
      "source": [
        "y_true"
      ]
    },
    {
      "cell_type": "code",
      "execution_count": null,
      "metadata": {
        "colab": {
          "base_uri": "https://localhost:8080/"
        },
        "id": "iBgO1CUYtM4_",
        "outputId": "771d075a-ae30-49bd-f5ec-34cc31e89da8"
      },
      "outputs": [
        {
          "data": {
            "text/plain": [
              "1.0"
            ]
          },
          "execution_count": 63,
          "metadata": {},
          "output_type": "execute_result"
        }
      ],
      "source": [
        "m = Recall()\n",
        "m.update_state(y_true, y_hat)\n",
        "m.result().numpy()"
      ]
    },
    {
      "cell_type": "code",
      "execution_count": null,
      "metadata": {
        "colab": {
          "base_uri": "https://localhost:8080/"
        },
        "id": "46N6519jtzab",
        "outputId": "667f3480-75d4-4de4-95be-3dd8651eeb76"
      },
      "outputs": [
        {
          "data": {
            "text/plain": [
              "1.0"
            ]
          },
          "execution_count": 64,
          "metadata": {},
          "output_type": "execute_result"
        }
      ],
      "source": [
        "m = Precision()\n",
        "m.update_state(y_true, y_hat)\n",
        "m.result().numpy()"
      ]
    },
    {
      "cell_type": "code",
      "execution_count": null,
      "metadata": {
        "colab": {
          "base_uri": "https://localhost:8080/",
          "height": 454
        },
        "id": "X3QmBirF4jLZ",
        "outputId": "ba38ffa6-e891-4f98-abaa-dac86f29ea3b"
      },
      "outputs": [
        {
          "data": {
            "image/png": "[encoded data removed]",
            "text/plain": [
              "<Figure size 1800x800 with 2 Axes>"
            ]
          },
          "metadata": {},
          "output_type": "display_data"
        }
      ],
      "source": [
        "plt.figure(figsize=(18,8))\n",
        "plt.subplot(1,2,1)\n",
        "plt.imshow(test_input[4])\n",
        "\n",
        "plt.subplot(1,2,2)\n",
        "plt.imshow(test_val[4])\n",
        "\n",
        "plt.show()"
      ]
    },
    {
      "cell_type": "code",
      "execution_count": null,
      "metadata": {
        "colab": {
          "base_uri": "https://localhost:8080/",
          "height": 454
        },
        "id": "d2-MwOZ34wAn",
        "outputId": "6c5bcd70-2f91-4304-d1a4-a5ed9e507d4f"
      },
      "outputs": [
        {
          "data": {
            "image/png": "[encoded data removed]",
            "text/plain": [
              "<Figure size 1800x800 with 2 Axes>"
            ]
          },
          "metadata": {},
          "output_type": "display_data"
        }
      ],
      "source": [
        "plt.figure(figsize=(18,8))\n",
        "plt.subplot(1,2,1)\n",
        "plt.imshow(test_input[10])\n",
        "\n",
        "plt.subplot(1,2,2)\n",
        "plt.imshow(test_val[10])\n",
        "\n",
        "plt.show()"
      ]
    },
    {
      "cell_type": "code",
      "execution_count": null,
      "metadata": {
        "colab": {
          "base_uri": "https://localhost:8080/"
        },
        "id": "9Gpuszqi5K7l",
        "outputId": "74ae3c81-2589-4043-cdd7-584e352d8675"
      },
      "outputs": [
        {
          "name": "stderr",
          "output_type": "stream",
          "text": [
            "/usr/local/lib/python3.10/dist-packages/keras/src/engine/training.py:3103: UserWarning: You are saving your model as an HDF5 file via `model.save()`. This file format is considered legacy. We recommend using instead the native Keras format, e.g. `model.save('my_model.keras')`.\n",
            "  saving_api.save_model(\n",
            "WARNING:tensorflow:Compiled the loaded model, but the compiled metrics have yet to be built. `model.compile_metrics` will be empty until you train or evaluate the model.\n"
          ]
        }
      ],
      "source": [
        "siamese_model.save('siamesemodel.h5')"
      ]
    },
    {
      "cell_type": "code",
      "execution_count": null,
      "metadata": {
        "colab": {
          "base_uri": "https://localhost:8080/"
        },
        "id": "SODURmnr6hcy",
        "outputId": "23328856-54d3-43a6-8b91-8087d187cd16"
      },
      "outputs": [
        {
          "name": "stderr",
          "output_type": "stream",
          "text": [
            "WARNING:tensorflow:No training configuration found in the save file, so the model was *not* compiled. Compile it manually.\n"
          ]
        }
      ],
      "source": [
        "model = tf.keras.models.load_model('siamesemodel.h5', custom_objects={'L1Dist':L1Dist , 'BinaryCrossentropy':tf.losses.BinaryCrossentropy})"
      ]
    },
    {
      "cell_type": "code",
      "execution_count": null,
      "metadata": {
        "colab": {
          "base_uri": "https://localhost:8080/"
        },
        "id": "6n3dGm9d7AT5",
        "outputId": "9ae2bde5-5dca-435e-ce8a-6cf1c7f278ae"
      },
      "outputs": [
        {
          "name": "stdout",
          "output_type": "stream",
          "text": [
            "1/1 [==============================] - 0s 109ms/step\n"
          ]
        },
        {
          "data": {
            "text/plain": [
              "array([[9.7038424e-01],\n",
              "       [2.4430314e-04],\n",
              "       [2.5209560e-04],\n",
              "       [9.9996912e-01],\n",
              "       [1.6228173e-02],\n",
              "       [7.8473561e-02],\n",
              "       [9.9999797e-01],\n",
              "       [1.0711887e-03],\n",
              "       [2.0691531e-04],\n",
              "       [9.3983236e-04],\n",
              "       [9.9989188e-01],\n",
              "       [9.9519205e-01],\n",
              "       [2.1989614e-02],\n",
              "       [1.1011988e-03],\n",
              "       [9.9967253e-01],\n",
              "       [1.6385905e-04],\n",
              "       [7.3443907e-01],\n",
              "       [9.8532382e-03],\n",
              "       [3.4874797e-02],\n",
              "       [9.9999988e-01]], dtype=float32)"
            ]
          },
          "execution_count": 69,
          "metadata": {},
          "output_type": "execute_result"
        }
      ],
      "source": [
        "model.predict([test_input, test_val])"
      ]
    },
    {
      "cell_type": "code",
      "execution_count": null,
      "metadata": {
        "colab": {
          "base_uri": "https://localhost:8080/"
        },
        "id": "mKGlQxze7hR1",
        "outputId": "73173dee-289c-499b-c78b-9bde9a7549f8"
      },
      "outputs": [
        {
          "name": "stdout",
          "output_type": "stream",
          "text": [
            "Model: \"SiameseNetwork\"\n",
            "__________________________________________________________________________________________________\n",
            " Layer (type)                Output Shape                 Param #   Connected to                  \n",
            "==================================================================================================\n",
            " input_img (InputLayer)      [(None, 100, 100, 3)]        0         []                            \n",
            "                                                                                                  \n",
            " validation_img (InputLayer  [(None, 100, 100, 3)]        0         []                            \n",
            " )                                                                                                \n",
            "                                                                                                  \n",
            " embedding (Functional)      (None, 4096)                 3896044   ['input_img[0][0]',           \n",
            "                                                          8          'validation_img[0][0]']      \n",
            "                                                                                                  \n",
            " l1_dist_2 (L1Dist)          (None, 4096)                 0         ['embedding[0][0]',           \n",
            "                                                                     'embedding[1][0]']           \n",
            "                                                                                                  \n",
            " dense_1 (Dense)             (None, 1)                    4097      ['l1_dist_2[0][0]']           \n",
            "                                                                                                  \n",
            "==================================================================================================\n",
            "Total params: 38964545 (148.64 MB)\n",
            "Trainable params: 38964545 (148.64 MB)\n",
            "Non-trainable params: 0 (0.00 Byte)\n",
            "__________________________________________________________________________________________________\n"
          ]
        }
      ],
      "source": [
        "model.summary()"
      ]
    },
    {
      "cell_type": "markdown",
      "metadata": {
        "id": "9kNldqFsJpMP"
      },
      "source": [
        "Real Time Test\n"
      ]
    },
    {
      "cell_type": "code",
      "execution_count": null,
      "metadata": {
        "id": "EOLBFEusKKju"
      },
      "outputs": [],
      "source": [
        "VER_PATH = os.path.join('/content/gdrive/MyDrive/Colab Notebooks/data','verification_images')\n",
        "INPUT_PATH = os.path.join('/content/gdrive/MyDrive/Colab Notebooks/data','input_images')"
      ]
    },
    {
      "cell_type": "code",
      "execution_count": null,
      "metadata": {
        "id": "Io44bQhBPnwB"
      },
      "outputs": [],
      "source": [
        "# def verify(model, detection_threshold, verification_threshold):\n",
        "#   results =[]\n",
        "#   for image in os.path.join('verification_images'):\n",
        "#     input_img = preprocess(os.path.join('input_images','input_image.jpeg'))\n",
        "#     validation_img = preprocess(os.path.join('verification_images',image))\n",
        "#     result = model.predict(list(np.expand_dims([input_img, validation_img], axis=1)))\n",
        "#     results.append(result)\n",
        "\n",
        "#   detection = np.sum(np.array(results) > detection_threshold)\n",
        "#   verification = detection / len(os.path.join('verification_images'))\n",
        "#   verified = verification > verification_threshold\n",
        "\n",
        "#   return results, verified\n",
        "# results, verified = verify(model, 0.5, 0.5)\n",
        "# print(verified)"
      ]
    }
  ],
  "metadata": {
    "accelerator": "GPU",
    "colab": {
      "gpuType": "T4",
      "provenance": [],
      "authorship_tag": "ABX9TyP7/w4WrF7wWld2vTcJsien",
      "include_colab_link": true
    },
    "kernelspec": {
      "display_name": "Python 3",
      "name": "python3"
    },
    "language_info": {
      "name": "python"
    },
    "widgets": {
      "application/vnd.jupyter.widget-state+json": {
        "2c8e25f890914f4e9c79e7eb33c8ec51": {
          "model_module": "@jupyter-widgets/base",
          "model_module_version": "1.2.0",
          "model_name": "LayoutModel",
          "state": {
            "_model_module": "@jupyter-widgets/base",
            "_model_module_version": "1.2.0",
            "_model_name": "LayoutModel",
            "_view_count": null,
            "_view_module": "@jupyter-widgets/base",
            "_view_module_version": "1.2.0",
            "_view_name": "LayoutView",
            "align_content": null,
            "align_items": null,
            "align_self": null,
            "border": null,
            "bottom": null,
            "display": null,
            "flex": null,
            "flex_flow": null,
            "grid_area": null,
            "grid_auto_columns": null,
            "grid_auto_flow": null,
            "grid_auto_rows": null,
            "grid_column": null,
            "grid_gap": null,
            "grid_row": null,
            "grid_template_areas": null,
            "grid_template_columns": null,
            "grid_template_rows": null,
            "height": null,
            "justify_content": null,
            "justify_items": null,
            "left": null,
            "margin": null,
            "max_height": null,
            "max_width": null,
            "min_height": null,
            "min_width": null,
            "object_fit": null,
            "object_position": null,
            "order": null,
            "overflow": null,
            "overflow_x": null,
            "overflow_y": null,
            "padding": null,
            "right": null,
            "top": null,
            "visibility": null,
            "width": null
          }
        },
        "5c7915313a0e4d0d88cd74acf9df2795": {
          "model_module": "@jupyter-widgets/controls",
          "model_module_version": "1.5.0",
          "model_name": "ButtonModel",
          "state": {
            "_dom_classes": [],
            "_model_module": "@jupyter-widgets/controls",
            "_model_module_version": "1.5.0",
            "_model_name": "ButtonModel",
            "_view_count": null,
            "_view_module": "@jupyter-widgets/controls",
            "_view_module_version": "1.5.0",
            "_view_name": "ButtonView",
            "button_style": "",
            "description": "Capture ANC Image",
            "disabled": false,
            "icon": "",
            "layout": "IPY_MODEL_8cef5aeed95f4c6e9a38f9b8f0982d60",
            "style": "IPY_MODEL_87351ecfea3b4ccb9e67146766a452b1",
            "tooltip": ""
          }
        },
        "87351ecfea3b4ccb9e67146766a452b1": {
          "model_module": "@jupyter-widgets/controls",
          "model_module_version": "1.5.0",
          "model_name": "ButtonStyleModel",
          "state": {
            "_model_module": "@jupyter-widgets/controls",
            "_model_module_version": "1.5.0",
            "_model_name": "ButtonStyleModel",
            "_view_count": null,
            "_view_module": "@jupyter-widgets/base",
            "_view_module_version": "1.2.0",
            "_view_name": "StyleView",
            "button_color": null,
            "font_weight": ""
          }
        },
        "8cef5aeed95f4c6e9a38f9b8f0982d60": {
          "model_module": "@jupyter-widgets/base",
          "model_module_version": "1.2.0",
          "model_name": "LayoutModel",
          "state": {
            "_model_module": "@jupyter-widgets/base",
            "_model_module_version": "1.2.0",
            "_model_name": "LayoutModel",
            "_view_count": null,
            "_view_module": "@jupyter-widgets/base",
            "_view_module_version": "1.2.0",
            "_view_name": "LayoutView",
            "align_content": null,
            "align_items": null,
            "align_self": null,
            "border": null,
            "bottom": null,
            "display": null,
            "flex": null,
            "flex_flow": null,
            "grid_area": null,
            "grid_auto_columns": null,
            "grid_auto_flow": null,
            "grid_auto_rows": null,
            "grid_column": null,
            "grid_gap": null,
            "grid_row": null,
            "grid_template_areas": null,
            "grid_template_columns": null,
            "grid_template_rows": null,
            "height": null,
            "justify_content": null,
            "justify_items": null,
            "left": null,
            "margin": null,
            "max_height": null,
            "max_width": null,
            "min_height": null,
            "min_width": null,
            "object_fit": null,
            "object_position": null,
            "order": null,
            "overflow": null,
            "overflow_x": null,
            "overflow_y": null,
            "padding": null,
            "right": null,
            "top": null,
            "visibility": null,
            "width": null
          }
        },
        "a5a52fcffaa04449a6a40b79c28c46ba": {
          "model_module": "@jupyter-widgets/controls",
          "model_module_version": "1.5.0",
          "model_name": "ButtonStyleModel",
          "state": {
            "_model_module": "@jupyter-widgets/controls",
            "_model_module_version": "1.5.0",
            "_model_name": "ButtonStyleModel",
            "_view_count": null,
            "_view_module": "@jupyter-widgets/base",
            "_view_module_version": "1.2.0",
            "_view_name": "StyleView",
            "button_color": null,
            "font_weight": ""
          }
        },
        "c8a85f295b474cd7a3db60f2241b1da1": {
          "model_module": "@jupyter-widgets/controls",
          "model_module_version": "1.5.0",
          "model_name": "ButtonModel",
          "state": {
            "_dom_classes": [],
            "_model_module": "@jupyter-widgets/controls",
            "_model_module_version": "1.5.0",
            "_model_name": "ButtonModel",
            "_view_count": null,
            "_view_module": "@jupyter-widgets/controls",
            "_view_module_version": "1.5.0",
            "_view_name": "ButtonView",
            "button_style": "",
            "description": "Capture POS Image",
            "disabled": false,
            "icon": "",
            "layout": "IPY_MODEL_2c8e25f890914f4e9c79e7eb33c8ec51",
            "style": "IPY_MODEL_a5a52fcffaa04449a6a40b79c28c46ba",
            "tooltip": ""
          }
        }
      }
    }
  },
  "nbformat": 4,
  "nbformat_minor": 0
}